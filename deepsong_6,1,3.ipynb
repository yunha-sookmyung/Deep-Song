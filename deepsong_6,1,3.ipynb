{
  "nbformat": 4,
  "nbformat_minor": 0,
  "metadata": {
    "colab": {
      "name": "deepsong_6,1,3",
      "provenance": [],
      "collapsed_sections": [],
      "include_colab_link": true
    },
    "kernelspec": {
      "name": "python3",
      "display_name": "Python 3"
    },
    "accelerator": "TPU"
  },
  "cells": [
    {
      "cell_type": "markdown",
      "metadata": {
        "id": "view-in-github",
        "colab_type": "text"
      },
      "source": [
        "<a href=\"https://colab.research.google.com/github/yunha-sookmyung/Deep-Song/blob/master/deepsong_6%2C1%2C3.ipynb\" target=\"_parent\"><img src=\"https://colab.research.google.com/assets/colab-badge.svg\" alt=\"Open In Colab\"/></a>"
      ]
    },
    {
      "cell_type": "markdown",
      "metadata": {
        "id": "xxMnKqaDxQnq",
        "colab_type": "text"
      },
      "source": [
        "# **ZIP파일로 모델 불러오는 과정**\n"
      ]
    },
    {
      "cell_type": "code",
      "metadata": {
        "id": "AeLbPr4Py2dz",
        "colab_type": "code",
        "colab": {}
      },
      "source": [
        "# 런타임 -> 런타임 유형변경 -> 하드웨어 가속도 TPU변경\n",
        "%tensorflow_version 2.x\n",
        "#런타임 -> 런타임 다시시작\n",
        "\n",
        "# 예전 방식 : !pip install tensorflow-gpu==2.0.0-rc1"
      ],
      "execution_count": 0,
      "outputs": []
    },
    {
      "cell_type": "code",
      "metadata": {
        "id": "EWVzO-Say3la",
        "colab_type": "code",
        "colab": {}
      },
      "source": [
        "from google.colab import files \n",
        "\n",
        "uploaded = files.upload()\n",
        "\n",
        "for fn in uploaded.keys():\n",
        "  print('User uploaded file \"{name}\" with length {length} bytes'.format(\n",
        "      name=fn, length=len(uploaded[fn])))"
      ],
      "execution_count": 0,
      "outputs": []
    },
    {
      "cell_type": "code",
      "metadata": {
        "id": "3-Q49ieBy79p",
        "colab_type": "code",
        "colab": {}
      },
      "source": [
        "from google.colab import drive\n",
        "drive.mount('/content/drive')"
      ],
      "execution_count": 0,
      "outputs": []
    },
    {
      "cell_type": "code",
      "metadata": {
        "id": "tCJ6IXgDy-to",
        "colab_type": "code",
        "colab": {}
      },
      "source": [
        "! mkdir deepsong                       # 마운트에 폴더 생성\n",
        "! unzip deepsong.zip -d ./deepsong    # unzip "
      ],
      "execution_count": 0,
      "outputs": []
    },
    {
      "cell_type": "markdown",
      "metadata": {
        "id": "tRwC7Wq1WhGN",
        "colab_type": "text"
      },
      "source": [
        "# **텐서플로우 및 케라스 버전 확인**"
      ]
    },
    {
      "cell_type": "code",
      "metadata": {
        "id": "c5V3Hxd76gbP",
        "colab_type": "code",
        "colab": {}
      },
      "source": [
        "from __future__ import absolute_import\n",
        "from __future__ import division\n",
        "from __future__ import print_function"
      ],
      "execution_count": 0,
      "outputs": []
    },
    {
      "cell_type": "code",
      "metadata": {
        "id": "hMHM6hMl6hts",
        "colab_type": "code",
        "colab": {}
      },
      "source": [
        "import tensorflow as tf\n",
        "from tensorflow import keras\n",
        "\n",
        "print(tf.__version__)     # 텐서플로우 버전확인 (colab의 기본버전은 1.15.0) --> 2.0 변경 \"%tensorflow_version 2.x\"\n",
        "print(keras.__version__)\n",
        "tf.random.set_seed(99)"
      ],
      "execution_count": 0,
      "outputs": []
    },
    {
      "cell_type": "markdown",
      "metadata": {
        "id": "OSbV4wR8xaTB",
        "colab_type": "text"
      },
      "source": [
        "# **모델 전처리 과정 - IMAGES, LABELS**"
      ]
    },
    {
      "cell_type": "code",
      "metadata": {
        "id": "mJiiecH08qAe",
        "colab_type": "code",
        "colab": {}
      },
      "source": [
        "from PIL import Image\n",
        "import os, glob, numpy as np\n",
        "\n",
        "caltech_dir = './deepsong/train'\n",
        "categories = [\"volcano\", \"earth+mount\", \"fire\", \"heavysnow\", \"city\", \"nature\"]\n",
        "nb_classes = len(categories)\n",
        "\n",
        "image_w = 256\n",
        "image_h = 256\n",
        "\n",
        "pixels = image_h * image_w * 3\n",
        "\n",
        "x = []\n",
        "y = []\n",
        "\n",
        "for idx, name in enumerate(categories):\n",
        "    \n",
        "    #CATEGORY별로 원 핫 인코딩을 진행해 LABEL을 만듦.\n",
        "    \n",
        "    label = [0 for i in range(nb_classes)]\n",
        "    label[idx] = 1\n",
        "\n",
        "    #이미지 경로는 TRAIN 폴더 안에 카데고리별 이름으로 되어있음!\n",
        "    #카테고리별 이미지 파일 개수 알려주기!\n",
        "    image_dir = caltech_dir + \"/\" + name\n",
        "    files = glob.glob(image_dir+\"/*.*\")\n",
        "    print(name, \" 파일 길이 : \", len(files))\n",
        "\n",
        "    #image를 불러와 전처리 과정을 거친 뒤 x에는 image의 배열형태의 데이터를\n",
        "    #y에는 위에서 원핫인코딩을 한 label을 할당한다.\n",
        "    for i, f in enumerate(files):\n",
        "        img = Image.open(f)\n",
        "        img = img.convert(\"RGB\")\n",
        "        img = img.resize((image_w, image_h))\n",
        "        data = np.asarray(img)\n",
        "\n",
        "        x.append(data)\n",
        "        y.append(label)\n",
        "\n",
        "        if i % 700 == 0:\n",
        "            print(name, \" : \", f)\n",
        "\n",
        "x = np.array(x)\n",
        "y = np.array(y)\n",
        "\n",
        "#1 0 0 0 0 0 이면 volcano\n",
        "#0 0 1 0 0 0 이면 fire 이런식\n",
        "\n",
        "print(\"ok\", len(y))"
      ],
      "execution_count": 0,
      "outputs": []
    },
    {
      "cell_type": "markdown",
      "metadata": {
        "id": "v_05EskZy_-y",
        "colab_type": "text"
      },
      "source": [
        "# **파라미터 값 지정**"
      ]
    },
    {
      "cell_type": "code",
      "metadata": {
        "id": "R2MV9DhV6i0A",
        "colab_type": "code",
        "colab": {}
      },
      "source": [
        "learning_rate = 0.01  # 러닝레이트 \n",
        "training_epochs = 60   # 에폭\n",
        "batch_size = 32        # 배치사이즈\n",
        "Buffer_size = 100      # 인스턴스 버퍼 사이즈"
      ],
      "execution_count": 0,
      "outputs": []
    },
    {
      "cell_type": "markdown",
      "metadata": {
        "id": "Ea6zoYl_zJk0",
        "colab_type": "text"
      },
      "source": [
        "# **train과 val dataset**\n",
        "# **image 정규화**"
      ]
    },
    {
      "cell_type": "code",
      "metadata": {
        "id": "oCVTw3qV6oqb",
        "colab_type": "code",
        "colab": {}
      },
      "source": [
        "import sklearn\n",
        "from sklearn.model_selection import train_test_split\n",
        "\n",
        "# Train set, val set으로 나누기 (80:20으로 나누기)\n",
        "train_images, val_images, train_labels, val_labels = train_test_split(x, y,train_size=0.85, test_size=0.15, random_state=1,shuffle=True)\n",
        "\n",
        "import os, glob\n",
        "import numpy as np\n",
        "from keras.models import Sequential\n",
        "from keras.layers import Conv2D, MaxPooling2D, Dense, Flatten, Dropout\n",
        "from keras.callbacks import EarlyStopping, ModelCheckpoint\n",
        "import matplotlib.pyplot as plt\n",
        "import keras.backend.tensorflow_backend as K\n",
        "\n",
        "#데이터 정규화\n",
        "\n",
        "train_images = train_images.astype('float32')\n",
        "train_images = train_images / 255\n",
        "\n",
        "val_images = val_images.astype('float32')\n",
        "val_images = val_images / 255\n",
        "\n",
        "print(np.shape(train_images), np.shape(train_labels))\n",
        "print(np.shape(val_images), np.shape(val_labels))\n",
        "\n",
        "# dataset 인스턴스 만들기\n",
        "train_dataset = tf.data.Dataset.from_tensor_slices((train_images, train_labels)).shuffle(Buffer_size).batch(batch_size)\n",
        "val_dataset = tf.data.Dataset.from_tensor_slices((val_images, val_labels)).batch(batch_size)"
      ],
      "execution_count": 0,
      "outputs": []
    },
    {
      "cell_type": "markdown",
      "metadata": {
        "id": "y8t-bdXCzOma",
        "colab_type": "text"
      },
      "source": [
        "# **CNN 모델 구조 생성**"
      ]
    },
    {
      "cell_type": "code",
      "metadata": {
        "id": "GnWmO4RpBGoE",
        "colab_type": "code",
        "colab": {}
      },
      "source": [
        "#CNN 모델 구조\n",
        "def create_model():\n",
        "    model = keras.Sequential() # Sequential 모델 시작\n",
        "    model.add(keras.layers.Conv2D(filters=64, kernel_size=3, strides=1, activation=tf.nn.relu, padding='SAME', input_shape=(256, 256, 3)))\n",
        "    model.add(keras.layers.MaxPool2D(padding='SAME'))\n",
        "    model.add(keras.layers.Conv2D(filters=64, kernel_size=3, strides=1, activation=tf.nn.relu, padding='SAME'))\n",
        "    model.add(keras.layers.MaxPool2D(padding='SAME'))\n",
        "    model.add(keras.layers.Conv2D(filters=64, kernel_size=3, strides=1, activation=tf.nn.relu, padding='SAME'))\n",
        "    model.add(keras.layers.MaxPool2D(padding='SAME'))\n",
        "    model.add(keras.layers.Conv2D(filters=64, kernel_size=3, strides=1, activation=tf.nn.relu, padding='SAME'))\n",
        "    model.add(keras.layers.MaxPool2D(padding='SAME'))\n",
        "    model.add(keras.layers.Conv2D(filters=64, kernel_size=3, strides=1, activation=tf.nn.relu, padding='SAME'))\n",
        "    model.add(keras.layers.MaxPool2D(padding='SAME'))\n",
        "    model.add(keras.layers.Conv2D(filters=64, kernel_size=3, strides=1, activation=tf.nn.relu, padding='SAME'))\n",
        "    model.add(keras.layers.MaxPool2D(padding='SAME'))\n",
        "    model.add(keras.layers.Flatten())\n",
        "    model.add(keras.layers.Dense(256, activation=tf.nn.relu))\n",
        "    model.add(keras.layers.Dropout(0.5))\n",
        "    model.add(keras.layers.Dense(256, activation=tf.nn.relu))\n",
        "    model.add(keras.layers.Dropout(0.5))\n",
        "    model.add(keras.layers.Dense(6, activation=tf.nn.softmax))   #  Dense층\n",
        "    return model\n",
        "\n"
      ],
      "execution_count": 0,
      "outputs": []
    },
    {
      "cell_type": "code",
      "metadata": {
        "id": "lx5pz2PXBMFV",
        "colab_type": "code",
        "colab": {}
      },
      "source": [
        "model = create_model() # 모델 함수를 model로 변경\n",
        "model.summary() # 모델에 대한 요약 출력해줌"
      ],
      "execution_count": 0,
      "outputs": []
    },
    {
      "cell_type": "code",
      "metadata": {
        "id": "bQfFN56j64Gt",
        "colab_type": "code",
        "colab": {}
      },
      "source": [
        "# 위에서 정한 모델을 그림으로(plot) 보여줌\n",
        "keras.utils.plot_model(model, to_file='model.png', show_shapes=True, show_layer_names=True) "
      ],
      "execution_count": 0,
      "outputs": []
    },
    {
      "cell_type": "markdown",
      "metadata": {
        "id": "ms0Wk3T60MQd",
        "colab_type": "text"
      },
      "source": [
        "# **Train과 Validation 진행**"
      ]
    },
    {
      "cell_type": "code",
      "metadata": {
        "id": "dFAJ8RQ47K6q",
        "colab_type": "code",
        "colab": {}
      },
      "source": [
        "import keras.backend as K\n",
        "\n",
        "\n",
        "model.compile(loss='categorical_crossentropy',\n",
        "              optimizer = 'SGD',\n",
        "              metrics = ['accuracy'])\n",
        "\n",
        "# 학습실행\n",
        "history = model.fit(train_images, train_labels,         # 입력값\n",
        "          batch_size=batch_size,                        # 1회마다 배치마다 100개 프로세스\n",
        "          epochs=training_epochs,                       # 60회 학습\n",
        "          verbose=1,                                    # verbose는 학습 중 출력되는 문구를 설정하는 것 \n",
        "          validation_data=(val_images, val_labels))     # val로 사용\n",
        "\n",
        "\n",
        "# test 값 결과 확인\n",
        "score = model.evaluate(val_images, val_labels, verbose=0) # verbose가 0 이면 ==== 움직이지 않고, 1이면 ==== 진행 바가 움직임\n",
        "print('VAl loss :', score[0])\n",
        "print('VAl ACCURACY :', score[1])"
      ],
      "execution_count": 0,
      "outputs": []
    },
    {
      "cell_type": "markdown",
      "metadata": {
        "id": "WLsiEsAdYV8B",
        "colab_type": "text"
      },
      "source": [
        "# **train 및 validation 결과 그래프**"
      ]
    },
    {
      "cell_type": "code",
      "metadata": {
        "id": "Is_7jopu7K05",
        "colab_type": "code",
        "colab": {}
      },
      "source": [
        "import matplotlib.pyplot as plt\n",
        "import numpy as np\n",
        "import os\n",
        "\n",
        "# 모델 학습 후 정보가 담긴 history 내용을 토대로 선 그래프를 그리는 함수 설정\n",
        "\n",
        "\n",
        "def plot_loss(history, title=None):     # Loss Visualization\n",
        "    # summarize history for loss\n",
        "    if not isinstance(history, dict):\n",
        "        history = history.history\n",
        "\n",
        "    plt.plot(history['loss'])           # loss\n",
        "    plt.plot(history['val_loss'])       # validation\n",
        "    if title is not None:\n",
        "        plt.title(title)\n",
        "    plt.ylabel('Loss')\n",
        "    plt.xlabel('Epoch')\n",
        "    plt.legend(['Training data', 'Validation data'], loc=0)\n",
        "    # plt.show()\n",
        "\n",
        "def plot_accuracy(history, title=None):     # Loss Visualization\n",
        "    # summarize history for loss\n",
        "    if not isinstance(history, dict):\n",
        "        history = history.history\n",
        "\n",
        "    plt.plot(history['accuracy'])           # loss\n",
        "    plt.plot(history['val_accuracy'])       # validation\n",
        "    if title is not None:\n",
        "        plt.title(title)\n",
        "    plt.ylabel('Accuracy')\n",
        "    plt.xlabel('Epoch')\n",
        "    plt.legend(['Training data', 'Validation data'], loc=0)\n",
        "    # plt.show()"
      ],
      "execution_count": 0,
      "outputs": []
    },
    {
      "cell_type": "code",
      "metadata": {
        "id": "omFvu5Fj7KvL",
        "colab_type": "code",
        "colab": {}
      },
      "source": [
        "# Visualization\n",
        "plot_loss(history, '(a) Loss')  # 학습 경과에 따른 정확도 변화 추이\n",
        "plt.show()\n",
        "plot_accuracy(history, '(b)) Accuracy')\n",
        "plt.show()"
      ],
      "execution_count": 0,
      "outputs": []
    },
    {
      "cell_type": "markdown",
      "metadata": {
        "id": "VyhVPgi3DXeu",
        "colab_type": "text"
      },
      "source": [
        "# **TEST 단계**"
      ]
    },
    {
      "cell_type": "code",
      "metadata": {
        "id": "Y77M8Hql7KoH",
        "colab_type": "code",
        "colab": {}
      },
      "source": [
        "model.save('deepsong.h5') # 모델 아키텍처와 모델 가중치 저장"
      ],
      "execution_count": 0,
      "outputs": []
    },
    {
      "cell_type": "code",
      "metadata": {
        "id": "p9A2B_zpDWBP",
        "colab_type": "code",
        "colab": {}
      },
      "source": [
        "from tensorflow.keras.models import load_model\n",
        "model = load_model('deepsong.h5')"
      ],
      "execution_count": 0,
      "outputs": []
    },
    {
      "cell_type": "code",
      "metadata": {
        "id": "OeiNF9wZ8FHC",
        "colab_type": "code",
        "colab": {}
      },
      "source": [
        "test_dir = './deepsong/test'\n",
        "categories = [\"volcano\", \"earth+mount\", \"fire\", \"heavysnow\", \"city\", \"nature\"]\n",
        "nb_classes = len(categories)\n",
        "\n",
        "image_w = 256\n",
        "image_h = 256\n",
        "\n",
        "pixels = image_h * image_w * 3\n",
        "\n",
        "test_image = []\n",
        "test_label = []\n",
        "\n",
        "for idx, name in enumerate(categories):\n",
        "    \n",
        "    #one-hot 돌리기.\n",
        "    label = [0 for i in range(nb_classes)]\n",
        "    label[idx] = 1\n",
        "\n",
        "    image_dir = test_dir + \"/\" + name\n",
        "    files = glob.glob(image_dir+\"/*.*\")\n",
        "    print(name, \" 파일 길이 : \", len(files))\n",
        "    for i, f in enumerate(files):\n",
        "        img = Image.open(f)\n",
        "        img = img.convert(\"RGB\")\n",
        "        img = img.resize((image_w, image_h))\n",
        "        data = np.asarray(img)\n",
        "\n",
        "        test_image.append(data)\n",
        "        test_label.append(label)\n",
        "\n",
        "        if i % 700 == 0:\n",
        "            print(name, \" : \", f)\n",
        "\n",
        "\n",
        "test_image = np.array(test_image)\n",
        "test_label = np.array(test_label)\n",
        "\n",
        "#test image 정규화\n",
        "test_image = np.array(test_image,dtype=np.float32)\n",
        "test_image = test_image / 255\n",
        "\n",
        "\n",
        "import matplotlib.pyplot as plt\n",
        "%matplotlib inline \n",
        "\n",
        "plt.imshow(test_image[0,:,:,0])"
      ],
      "execution_count": 0,
      "outputs": []
    },
    {
      "cell_type": "markdown",
      "metadata": {
        "id": "zy_s-GdiYcm6",
        "colab_type": "text"
      },
      "source": [
        "# **테스트 결과 도출**"
      ]
    },
    {
      "cell_type": "code",
      "metadata": {
        "id": "rFy0uNerED9m",
        "colab_type": "code",
        "colab": {}
      },
      "source": [
        "#test data를 이용해 평가 - 정확도 및 로스값 도출\n",
        "test = model.evaluate(test_image, test_label, verbose=0)\n",
        "\n",
        "print('loss :', test[0])\n",
        "print('ACCURACY :', test[1])"
      ],
      "execution_count": 0,
      "outputs": []
    },
    {
      "cell_type": "code",
      "metadata": {
        "id": "Wc8QFcXYtzoN",
        "colab_type": "code",
        "colab": {}
      },
      "source": [
        "#예측과 실제 값을 출력해보기\n",
        "pred = model.predict(test_image)\n",
        "print(test_label[0], pred[0])"
      ],
      "execution_count": 0,
      "outputs": []
    },
    {
      "cell_type": "markdown",
      "metadata": {
        "id": "1ZfTrcBRgUI8",
        "colab_type": "text"
      },
      "source": [
        "#**confusion matrix 값 계산**"
      ]
    },
    {
      "cell_type": "code",
      "metadata": {
        "id": "ayUqJALvt10y",
        "colab_type": "code",
        "colab": {}
      },
      "source": [
        "def true_positive(y_true, y_pred):  #6개의 카테고리 각각의 정답을 맞춘 개수\n",
        "    zero_true_positive  = 0 #화산\n",
        "    one_true_positive  = 0 #지진+산사태\n",
        "    two_true_positive  = 0 #화재\n",
        "    three_true_positive  = 0 #폭설\n",
        "    four_true_positive  = 0 #도시\n",
        "    five_true_positive  = 0 #자연\n",
        "    for i in range (1877):\n",
        "        if y_pred[i] == 0 and y_true[i] == 0:\n",
        "            zero_true_positive += 1\n",
        "        elif y_pred[i] == 1 and y_true[i] == 1:\n",
        "            one_true_positive += 1\n",
        "        elif y_pred[i] == 2 and y_true[i] == 2:\n",
        "            two_true_positive += 1\n",
        "        elif y_pred[i] == 3 and y_true[i] == 3:\n",
        "            three_true_positive += 1\n",
        "        elif y_pred[i] == 4 and y_true[i] == 4:\n",
        "            four_true_positive += 1\n",
        "        elif y_pred[i] == 5 and y_true[i] == 5:\n",
        "            five_true_positive += 1\n",
        "        i+=1\n",
        "    return zero_true_positive, one_true_positive, two_true_positive, three_true_positive, four_true_positive, five_true_positive\n",
        "print('true positive_each label:', true_positive(test_label, pred))"
      ],
      "execution_count": 0,
      "outputs": []
    },
    {
      "cell_type": "code",
      "metadata": {
        "id": "iv-oBS2Zt3eL",
        "colab_type": "code",
        "colab": {}
      },
      "source": [
        "def zero_negative(y_true, y_pred): # 1번 카테고리(화산)가 답인데 다른 정답으로 예측한 개수\n",
        "    one_false  = 0 \n",
        "    two_false  = 0 \n",
        "    three_false  = 0 \n",
        "    four_false  = 0 \n",
        "    five_false  = 0 \n",
        "    for i in range (1877):\n",
        "        if y_pred[i] == 1 and y_true[i] == 0:\n",
        "            one_false += 1\n",
        "        elif y_pred[i] == 2 and y_true[i] == 0:\n",
        "            two_false += 1\n",
        "        elif y_pred[i] == 3 and y_true[i] == 0:\n",
        "            three_false += 1\n",
        "        elif y_pred[i] == 4 and y_true[i] == 0:\n",
        "            four_false += 1\n",
        "        elif y_pred[i] == 5 and y_true[i] == 0:\n",
        "            five_false += 1\n",
        "        i+=1\n",
        "    return one_false, two_false, three_false, four_false, five_false\n",
        "print('zero_negative:', zero_negative(test_label, pred))"
      ],
      "execution_count": 0,
      "outputs": []
    },
    {
      "cell_type": "code",
      "metadata": {
        "id": "rajpQeiqt5CV",
        "colab_type": "code",
        "colab": {}
      },
      "source": [
        "def one_negative(y_true, y_pred):# 2번 카테고리(지진과 산사태)가 답인데 다른 정답으로 예측한 개수\n",
        "    zero_false  = 0 \n",
        "    two_false  = 0 \n",
        "    three_false  = 0 \n",
        "    four_false  = 0 \n",
        "    five_false  = 0 \n",
        "    for i in range (1877):\n",
        "        if y_pred[i] == 0 and y_true[i] == 1:\n",
        "            zero_false += 1\n",
        "        elif y_pred[i] == 2 and y_true[i] == 1:\n",
        "            two_false += 1\n",
        "        elif y_pred[i] == 3 and y_true[i] == 1:\n",
        "            three_false += 1\n",
        "        elif y_pred[i] == 4 and y_true[i] == 1:\n",
        "            four_false += 1\n",
        "        elif y_pred[i] == 5 and y_true[i] == 1:\n",
        "            five_false += 1\n",
        "        i+=1\n",
        "    return zero_false, two_false, three_false, four_false, five_false\n",
        "print('one_negative:', one_negative(test_label, pred))"
      ],
      "execution_count": 0,
      "outputs": []
    },
    {
      "cell_type": "code",
      "metadata": {
        "id": "-Z6AfxRRt67U",
        "colab_type": "code",
        "colab": {}
      },
      "source": [
        "def two_negative(y_true, y_pred):# 3번 카테고리(화재)가 답인데 다른 정답으로 예측한 개수\n",
        "    zero_false  = 0\n",
        "    one_false  = 0 \n",
        "    three_false  = 0\n",
        "    four_false  = 0 \n",
        "    five_false  = 0 \n",
        "    for i in range (1877):\n",
        "        if y_pred[i] == 0 and y_true[i] == 2:\n",
        "            zero_false += 1\n",
        "        elif y_pred[i] == 1 and y_true[i] == 2:\n",
        "            one_false += 1\n",
        "        elif y_pred[i] == 3 and y_true[i] == 2:\n",
        "            three_false += 1\n",
        "        elif y_pred[i] == 4 and y_true[i] == 2:\n",
        "            four_false += 1\n",
        "        elif y_pred[i] == 5 and y_true[i] == 2:\n",
        "            five_false += 1\n",
        "        i+=1\n",
        "    return zero_false, one_false, three_false, four_false, five_false\n",
        "print('two_negative:', two_negative(test_label, pred))"
      ],
      "execution_count": 0,
      "outputs": []
    },
    {
      "cell_type": "code",
      "metadata": {
        "id": "xYJDzsfot8Ve",
        "colab_type": "code",
        "colab": {}
      },
      "source": [
        "def three_negative(y_true, y_pred):# 4번 카테고리(폭설)가 답인데 다른 정답으로 예측한 개수\n",
        "    zero_false  = 0 \n",
        "    one_false  = 0 \n",
        "    two_false  = 0 \n",
        "    four_false  = 0 \n",
        "    five_false  = 0 \n",
        "    for i in range (1877):\n",
        "        if y_pred[i] == 0 and y_true[i] == 3:\n",
        "            zero_false += 1\n",
        "        elif y_pred[i] == 1 and y_true[i] == 3:\n",
        "            one_false += 1\n",
        "        elif y_pred[i] == 2 and y_true[i] == 3:\n",
        "            two_false += 1\n",
        "        elif y_pred[i] == 4 and y_true[i] == 3:\n",
        "            four_false += 1\n",
        "        elif y_pred[i] == 5 and y_true[i] == 3:\n",
        "            five_false += 1\n",
        "        i+=1\n",
        "    return zero_false, one_false, two_false, four_false, five_false\n",
        "print('three_negative:', three_negative(test_label, pred))"
      ],
      "execution_count": 0,
      "outputs": []
    },
    {
      "cell_type": "code",
      "metadata": {
        "id": "vic9Fv8Yt9wL",
        "colab_type": "code",
        "colab": {}
      },
      "source": [
        "def four_negative(y_true, y_pred): # 5번 카테고리(도시)가 답인데 다른 정답으로 예측한 개수\n",
        "    zero_false  = 0 \n",
        "    one_false  = 0 \n",
        "    two_false  = 0 \n",
        "    three_false  = 0\n",
        "    five_false  = 0 \n",
        "    for i in range (1877):\n",
        "        if y_pred[i] == 0 and y_true[i] == 4:\n",
        "            zero_false += 1\n",
        "        elif y_pred[i] == 1 and y_true[i] == 4:\n",
        "            one_false += 1\n",
        "        elif y_pred[i] == 2 and y_true[i] == 4:\n",
        "            two_false += 1\n",
        "        elif y_pred[i] == 3 and y_true[i] == 4:\n",
        "            three_false += 1\n",
        "        elif y_pred[i] == 5 and y_true[i] == 4:\n",
        "            five_false += 1\n",
        "        i+=1\n",
        "    return zero_false, one_false, two_false, three_false, five_false\n",
        "print('four_negative:', four_negative(test_label, pred))"
      ],
      "execution_count": 0,
      "outputs": []
    },
    {
      "cell_type": "code",
      "metadata": {
        "id": "qRnL-aiZg0LX",
        "colab_type": "code",
        "colab": {}
      },
      "source": [
        "def five_negative(y_true, y_pred):# 6번 카테고리(자연)가 답인데 다른 정답으로 예측한 개수\n",
        "    zero_false  = 0 \n",
        "    one_false  = 0 \n",
        "    two_false  = 0 \n",
        "    three_false  = 0 \n",
        "    four_false  = 0 \n",
        "    for i in range (1877):\n",
        "        if y_pred[i] == 0 and y_true[i] == 5:\n",
        "            zero_false += 1\n",
        "        elif y_pred[i] == 1 and y_true[i] == 5:\n",
        "            one_false += 1\n",
        "        elif y_pred[i] == 2 and y_true[i] == 5:\n",
        "            two_false += 1\n",
        "        elif y_pred[i] == 3 and y_true[i] == 5:\n",
        "            three_false += 1\n",
        "        elif y_pred[i] == 4 and y_true[i] == 5:\n",
        "            four_false += 1\n",
        "        i+=1\n",
        "    return zero_false, one_false, two_false, three_false, four_false\n",
        "print('five_negative:', five_negative(test_label, pred))"
      ],
      "execution_count": 0,
      "outputs": []
    },
    {
      "cell_type": "code",
      "metadata": {
        "id": "HNonqtS6JY2x",
        "colab_type": "code",
        "colab": {}
      },
      "source": [
        ""
      ],
      "execution_count": 0,
      "outputs": []
    }
  ]
}