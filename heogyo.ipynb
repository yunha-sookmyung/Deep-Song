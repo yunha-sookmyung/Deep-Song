{
 "cells": [
  {
   "cell_type": "code",
   "execution_count": 1,
   "metadata": {},
   "outputs": [],
   "source": [
    "from __future__ import absolute_import\n",
    "from __future__ import division\n",
    "from __future__ import print_function"
   ]
  },
  {
   "cell_type": "code",
   "execution_count": 2,
   "metadata": {},
   "outputs": [
    {
     "output_type": "stream",
     "name": "stdout",
     "text": "2.1.0\n2.2.4-tf\n"
    }
   ],
   "source": [
    "import tensorflow as tf\n",
    "from tensorflow import keras\n",
    "\n",
    "print(tf.__version__)     # 텐서플로우 버전확인 (colab의 기본버전은 1.15.0) --> 2.0 변경 \"%tensorflow_version 2.x\"\n",
    "print(keras.__version__)\n",
    "tf.random.set_seed(999)"
   ]
  },
  {
   "cell_type": "code",
   "execution_count": 3,
   "metadata": {},
   "outputs": [
    {
     "output_type": "stream",
     "name": "stdout",
     "text": "volcano  파일 길이 :  971\nvolcano  :  ./deepsong_2/train/volcano\\volcano eruption_original_vo_1.jpg_545ff43d-25a6-4351-a33b-6b9ea6f7e1ef.jpg\nvolcano  :  ./deepsong_2/train/volcano\\volcano eruption_original_vo_99.jpg_7ec52b2b-d7e4-47b0-8e5c-fee68432b6e9.jpg\nearth+mount  파일 길이 :  699\nearth+mount  :  ./deepsong_2/train/earth+mount\\ep285.jpg\nfire  파일 길이 :  709\nfire  :  ./deepsong_2/train/fire\\fire.245.png\nfire  :  ./deepsong_2/train/fire\\fire_images_original_fire.850.jpg_627826aa-9dca-40df-8444-5e50c0c0bbe2.jpg\nheavysnow  파일 길이 :  700\nheavysnow  :  ./deepsong_2/train/heavysnow\\heavy snow_original_hv_1.jpg_46750ccf-2fe7-4154-8b4d-145532fe9092.jpg\ncity  파일 길이 :  705\ncity  :  ./deepsong_2/train/city\\city301.jpg\ncity  :  ./deepsong_2/train/city\\train_original_city698.jpg_169386f5-1b56-4dea-9ce6-bb9d7a25b9dc.jpg\nnature  파일 길이 :  698\nnature  :  ./deepsong_2/train/nature\\00000206 (5).jpg\nok 4482\n"
    }
   ],
   "source": [
    "from PIL import Image\n",
    "import os, glob, numpy as np\n",
    "\n",
    "caltech_dir = './deepsong_2/train'\n",
    "categories = [\"volcano\", \"earth+mount\", \"fire\", \"heavysnow\", \"city\", \"nature\"]\n",
    "nb_classes = len(categories)\n",
    "\n",
    "image_w = 256\n",
    "image_h = 256\n",
    "\n",
    "pixels = image_h * image_w * 3\n",
    "\n",
    "x = []\n",
    "y = []\n",
    "\n",
    "for idx, name in enumerate(categories):\n",
    "    label = [0 for i in range(nb_classes)]\n",
    "    label[idx] = 1\n",
    "    image_dir = caltech_dir + \"/\" + name\n",
    "    files = glob.glob(image_dir+\"/*.*\")\n",
    "    print(name, \" 파일 길이 : \", len(files))\n",
    "\n",
    "    for i, f in enumerate(files):\n",
    "        img = Image.open(f)\n",
    "        img = img.convert(\"RGB\")\n",
    "        img = img.resize((image_w, image_h))\n",
    "        data = np.asarray(img)\n",
    "\n",
    "        x.append(data)\n",
    "        y.append(label)\n",
    "\n",
    "        if i % 700 == 0:\n",
    "            print(name, \" : \", f)\n",
    "\n",
    "x = np.array(x)\n",
    "y = np.array(y)\n",
    "#1 0 0 0 0 0 이면 volcano\n",
    "#0 0 1 0 0 0 이면 fire 이런식\n",
    "\n",
    "print(\"ok\", len(y))"
   ]
  },
  {
   "cell_type": "code",
   "execution_count": 4,
   "metadata": {},
   "outputs": [],
   "source": [
    "learning_rate = 0.005  # 러닝레이트 \n",
    "training_epochs = 60 # 에폭\n",
    "batch_size = 32        # 배치사이즈\n",
    "Buffer_size = 100      # 인스턴스 버퍼 사이즈\n"
   ]
  },
  {
   "cell_type": "code",
   "execution_count": 5,
   "metadata": {},
   "outputs": [
    {
     "output_type": "stream",
     "name": "stderr",
     "text": "Using TensorFlow backend.\n(3585, 256, 256, 3) (3585, 6)\n(897, 256, 256, 3) (897, 6)\n"
    }
   ],
   "source": [
    "import sklearn\n",
    "from sklearn.model_selection import train_test_split\n",
    "\n",
    "# Train set, Test set으로 나누기 (80:20으로 나누기)\n",
    "train_images, val_images, train_labels, val_labels = train_test_split(x, y, test_size=0.2, random_state=1,shuffle=True)\n",
    "\n",
    "######################\n",
    "import os, glob\n",
    "import numpy as np\n",
    "from keras.models import Sequential\n",
    "from keras.layers import Conv2D, MaxPooling2D, Dense, Flatten, Dropout\n",
    "from keras.callbacks import EarlyStopping, ModelCheckpoint\n",
    "import matplotlib.pyplot as plt\n",
    "import keras.backend.tensorflow_backend as K\n",
    "\n",
    "train_images = train_images.astype('float32')\n",
    "train_images = train_images / 255\n",
    "\n",
    "val_images = val_images.astype('float32')\n",
    "val_images = val_images / 255\n",
    "\n",
    "#train_image = np.array(train_image,dtype=np.float32)\n",
    "#train_image = train_image / 255\n",
    "\n",
    "#val_image = np.array(val_image,dtype=np.float32)\n",
    "#val_image = val_image / 255\n",
    "\n",
    "print(np.shape(train_images), np.shape(train_labels))\n",
    "print(np.shape(val_images), np.shape(val_labels))\n",
    "\n",
    "# dataset 인스턴스 만들기\n",
    "train_dataset = tf.data.Dataset.from_tensor_slices((train_images, train_labels)).shuffle(Buffer_size).batch(batch_size)\n",
    "val_dataset = tf.data.Dataset.from_tensor_slices((val_images, val_labels)).batch(batch_size)"
   ]
  },
  {
   "cell_type": "code",
   "execution_count": 6,
   "metadata": {},
   "outputs": [],
   "source": [
    "def create_model():\n",
    "    model = keras.Sequential() # Sequential 모델 시작\n",
    "    model.add(keras.layers.Conv2D(filters=64, kernel_size=3, strides=1, activation=tf.nn.relu, padding='SAME', input_shape=(256, 256, 3)))\n",
    "    model.add(keras.layers.MaxPool2D(padding='SAME'))\n",
    "    model.add(keras.layers.Conv2D(filters=64, kernel_size=3, strides=1, activation=tf.nn.relu, padding='SAME'))\n",
    "    model.add(keras.layers.MaxPool2D(padding='SAME'))\n",
    "    model.add(keras.layers.Conv2D(filters=64, kernel_size=3, strides=1, activation=tf.nn.relu, padding='SAME'))\n",
    "    model.add(keras.layers.MaxPool2D(padding='SAME'))\n",
    "    model.add(keras.layers.Conv2D(filters=64, kernel_size=3, strides=1, activation=tf.nn.relu, padding='SAME'))\n",
    "    model.add(keras.layers.MaxPool2D(padding='SAME'))\n",
    "    model.add(keras.layers.Conv2D(filters=64, kernel_size=3, strides=1, activation=tf.nn.relu, padding='SAME'))\n",
    "    model.add(keras.layers.MaxPool2D(padding='SAME'))\n",
    "    model.add(keras.layers.Conv2D(filters=64, kernel_size=3, strides=1, activation=tf.nn.relu, padding='SAME'))\n",
    "    model.add(keras.layers.MaxPool2D(padding='SAME'))\n",
    "    model.add(keras.layers.Flatten())\n",
    "    model.add(keras.layers.Dense(256, activation=tf.nn.relu))\n",
    "    model.add(keras.layers.Dropout(0.5))\n",
    "    model.add(keras.layers.Dense(256, activation=tf.nn.relu))\n",
    "    model.add(keras.layers.Dropout(0.5))\n",
    "    model.add(keras.layers.Dense(6, activation=tf.nn.softmax))   #  Dense층\n",
    "    return model\n"
   ]
  },
  {
   "cell_type": "code",
   "execution_count": 7,
   "metadata": {},
   "outputs": [
    {
     "output_type": "stream",
     "name": "stdout",
     "text": "Model: \"sequential\"\n_________________________________________________________________\nLayer (type)                 Output Shape              Param #   \n=================================================================\nconv2d (Conv2D)              (None, 256, 256, 64)      1792      \n_________________________________________________________________\nmax_pooling2d (MaxPooling2D) (None, 128, 128, 64)      0         \n_________________________________________________________________\nconv2d_1 (Conv2D)            (None, 128, 128, 64)      36928     \n_________________________________________________________________\nmax_pooling2d_1 (MaxPooling2 (None, 64, 64, 64)        0         \n_________________________________________________________________\nconv2d_2 (Conv2D)            (None, 64, 64, 64)        36928     \n_________________________________________________________________\nmax_pooling2d_2 (MaxPooling2 (None, 32, 32, 64)        0         \n_________________________________________________________________\nconv2d_3 (Conv2D)            (None, 32, 32, 64)        36928     \n_________________________________________________________________\nmax_pooling2d_3 (MaxPooling2 (None, 16, 16, 64)        0         \n_________________________________________________________________\nconv2d_4 (Conv2D)            (None, 16, 16, 64)        36928     \n_________________________________________________________________\nmax_pooling2d_4 (MaxPooling2 (None, 8, 8, 64)          0         \n_________________________________________________________________\nconv2d_5 (Conv2D)            (None, 8, 8, 64)          36928     \n_________________________________________________________________\nmax_pooling2d_5 (MaxPooling2 (None, 4, 4, 64)          0         \n_________________________________________________________________\nflatten (Flatten)            (None, 1024)              0         \n_________________________________________________________________\ndense (Dense)                (None, 256)               262400    \n_________________________________________________________________\ndropout (Dropout)            (None, 256)               0         \n_________________________________________________________________\ndense_1 (Dense)              (None, 256)               65792     \n_________________________________________________________________\ndropout_1 (Dropout)          (None, 256)               0         \n_________________________________________________________________\ndense_2 (Dense)              (None, 6)                 1542      \n=================================================================\nTotal params: 516,166\nTrainable params: 516,166\nNon-trainable params: 0\n_________________________________________________________________\n"
    }
   ],
   "source": [
    "model = create_model() # 모델 함수를 model로 변경\n",
    "model.summary() # 모델에 대한 요약 출력해줌"
   ]
  },
  {
   "cell_type": "code",
   "execution_count": 8,
   "metadata": {},
   "outputs": [
    {
     "output_type": "stream",
     "name": "stdout",
     "text": "Train on 3585 samples, validate on 897 samples\nEpoch 1/60\n3585/3585 [==============================] - 306s 85ms/sample - loss: 1.7879 - accuracy: 0.2081 - val_loss: 1.7796 - val_accuracy: 0.2140\nEpoch 2/60\n3585/3585 [==============================] - 319s 89ms/sample - loss: 1.7728 - accuracy: 0.2262 - val_loss: 1.7581 - val_accuracy: 0.2140\nEpoch 3/60\n3585/3585 [==============================] - 315s 88ms/sample - loss: 1.7253 - accuracy: 0.2728 - val_loss: 1.7045 - val_accuracy: 0.2687\nEpoch 4/60\n3585/3585 [==============================] - 305s 85ms/sample - loss: 1.6220 - accuracy: 0.3294 - val_loss: 1.9736 - val_accuracy: 0.1672\nEpoch 5/60\n3585/3585 [==============================] - 312s 87ms/sample - loss: 1.5288 - accuracy: 0.3596 - val_loss: 1.5068 - val_accuracy: 0.3712\nEpoch 6/60\n3585/3585 [==============================] - 397s 111ms/sample - loss: 1.4804 - accuracy: 0.3869 - val_loss: 1.2971 - val_accuracy: 0.4961\nEpoch 7/60\n3585/3585 [==============================] - 340s 95ms/sample - loss: 1.3960 - accuracy: 0.4142 - val_loss: 1.2993 - val_accuracy: 0.4805\nEpoch 8/60\n3585/3585 [==============================] - 355s 99ms/sample - loss: 1.3544 - accuracy: 0.4421 - val_loss: 2.4718 - val_accuracy: 0.2174\nEpoch 9/60\n3585/3585 [==============================] - 347s 97ms/sample - loss: 1.3622 - accuracy: 0.4455 - val_loss: 1.5802 - val_accuracy: 0.3367\nEpoch 10/60\n3585/3585 [==============================] - 331s 92ms/sample - loss: 1.2803 - accuracy: 0.4921 - val_loss: 1.4207 - val_accuracy: 0.4470\nEpoch 11/60\n3585/3585 [==============================] - 316s 88ms/sample - loss: 1.2538 - accuracy: 0.5001 - val_loss: 1.6317 - val_accuracy: 0.2943\nEpoch 12/60\n3585/3585 [==============================] - 324s 90ms/sample - loss: 1.2449 - accuracy: 0.5040 - val_loss: 2.2637 - val_accuracy: 0.2698\nEpoch 13/60\n3585/3585 [==============================] - 333s 93ms/sample - loss: 1.3492 - accuracy: 0.4583 - val_loss: 1.8274 - val_accuracy: 0.3311\nEpoch 14/60\n3585/3585 [==============================] - 359s 100ms/sample - loss: 1.3384 - accuracy: 0.4538 - val_loss: 2.0964 - val_accuracy: 0.2631\nEpoch 15/60\n3585/3585 [==============================] - 325s 91ms/sample - loss: 1.2426 - accuracy: 0.5116 - val_loss: 1.1806 - val_accuracy: 0.5039\nEpoch 16/60\n3585/3585 [==============================] - 338s 94ms/sample - loss: 1.1930 - accuracy: 0.5308 - val_loss: 1.1309 - val_accuracy: 0.5619\nEpoch 17/60\n3585/3585 [==============================] - 331s 92ms/sample - loss: 1.1509 - accuracy: 0.5462 - val_loss: 1.2732 - val_accuracy: 0.5117\nEpoch 18/60\n3585/3585 [==============================] - 330s 92ms/sample - loss: 1.1506 - accuracy: 0.5403 - val_loss: 1.2837 - val_accuracy: 0.4604\nEpoch 19/60\n3585/3585 [==============================] - 331s 92ms/sample - loss: 1.1256 - accuracy: 0.5537 - val_loss: 1.3702 - val_accuracy: 0.4872\nEpoch 20/60\n3585/3585 [==============================] - 311s 87ms/sample - loss: 1.1167 - accuracy: 0.5660 - val_loss: 1.9932 - val_accuracy: 0.4292\nEpoch 21/60\n3585/3585 [==============================] - 318s 89ms/sample - loss: 1.1142 - accuracy: 0.5657 - val_loss: 1.4858 - val_accuracy: 0.3969\nEpoch 22/60\n3585/3585 [==============================] - 355s 99ms/sample - loss: 1.0993 - accuracy: 0.5674 - val_loss: 1.3165 - val_accuracy: 0.5084\nEpoch 23/60\n3585/3585 [==============================] - 383s 107ms/sample - loss: 1.0633 - accuracy: 0.5824 - val_loss: 1.0198 - val_accuracy: 0.6020\nEpoch 24/60\n3585/3585 [==============================] - 309s 86ms/sample - loss: 1.0681 - accuracy: 0.5841 - val_loss: 1.5204 - val_accuracy: 0.4303\nEpoch 25/60\n3585/3585 [==============================] - 304s 85ms/sample - loss: 1.0659 - accuracy: 0.5852 - val_loss: 0.9528 - val_accuracy: 0.6165\nEpoch 26/60\n3585/3585 [==============================] - 299s 83ms/sample - loss: 1.0324 - accuracy: 0.6025 - val_loss: 1.3251 - val_accuracy: 0.4872\nEpoch 27/60\n3585/3585 [==============================] - 307s 86ms/sample - loss: 1.0288 - accuracy: 0.5930 - val_loss: 0.9674 - val_accuracy: 0.6176\nEpoch 28/60\n3585/3585 [==============================] - 306s 85ms/sample - loss: 1.0156 - accuracy: 0.6092 - val_loss: 1.0799 - val_accuracy: 0.5831\nEpoch 29/60\n3585/3585 [==============================] - 301s 84ms/sample - loss: 1.0014 - accuracy: 0.6151 - val_loss: 0.9490 - val_accuracy: 0.6410\nEpoch 30/60\n3585/3585 [==============================] - 305s 85ms/sample - loss: 0.9946 - accuracy: 0.6184 - val_loss: 1.5607 - val_accuracy: 0.4515\nEpoch 31/60\n3585/3585 [==============================] - 303s 84ms/sample - loss: 0.9868 - accuracy: 0.6181 - val_loss: 2.2692 - val_accuracy: 0.2787\nEpoch 32/60\n3585/3585 [==============================] - 297s 83ms/sample - loss: 0.9745 - accuracy: 0.6279 - val_loss: 1.0184 - val_accuracy: 0.5909\nEpoch 33/60\n3585/3585 [==============================] - 298s 83ms/sample - loss: 0.9331 - accuracy: 0.6499 - val_loss: 0.9276 - val_accuracy: 0.6332\nEpoch 34/60\n3585/3585 [==============================] - 306s 85ms/sample - loss: 0.9506 - accuracy: 0.6402 - val_loss: 1.2946 - val_accuracy: 0.4905\nEpoch 35/60\n3585/3585 [==============================] - 299s 84ms/sample - loss: 0.9573 - accuracy: 0.6363 - val_loss: 1.2118 - val_accuracy: 0.5496\nEpoch 36/60\n3585/3585 [==============================] - 292s 82ms/sample - loss: 0.9383 - accuracy: 0.6483 - val_loss: 3.8347 - val_accuracy: 0.2497\nEpoch 37/60\n3585/3585 [==============================] - 316s 88ms/sample - loss: 1.1783 - accuracy: 0.5596 - val_loss: 1.4288 - val_accuracy: 0.5072\nEpoch 38/60\n3585/3585 [==============================] - 310s 87ms/sample - loss: 0.9742 - accuracy: 0.6310 - val_loss: 2.4135 - val_accuracy: 0.4259\nEpoch 39/60\n3585/3585 [==============================] - 322s 90ms/sample - loss: 0.9896 - accuracy: 0.6251 - val_loss: 0.8689 - val_accuracy: 0.6577\nEpoch 40/60\n3585/3585 [==============================] - 342s 95ms/sample - loss: 0.9161 - accuracy: 0.6524 - val_loss: 1.3159 - val_accuracy: 0.5574\nEpoch 41/60\n 576/3585 [===>..........................] - ETA: 4:31 - loss: 0.9492 - accuracy: 0.6510"
    }
   ],
   "source": [
    "import keras.backend as K\n",
    "\n",
    "\n",
    "model.compile(loss='categorical_crossentropy',\n",
    "              optimizer = 'SGD',\n",
    "              metrics = ['accuracy'])\n",
    "\n",
    "# 학습실행\n",
    "history = model.fit(train_images, train_labels,       # 입력값\n",
    "          batch_size=batch_size,                      # 1회마다 배치마다 100개 프로세스 \n",
    "          epochs=training_epochs,                     # 1000회 학습\n",
    "          verbose=1,                                  # verbose는 학습 중 출력되는 문구를 설정하는 것 \n",
    "          validation_data=(val_images, val_labels)) # test를 val로 사용\n",
    "\n",
    "\n",
    "# test 값 결과 확인\n",
    "score = model.evaluate(val_images, val_labels, verbose=0) # verbose가 0 이면 ==== 움직이지 않고, 1이면 ==== 진행 바가 움직임\n",
    "print('VAl loss :', score[0])\n",
    "print('VAl ACCURACY :', score[1])"
   ]
  },
  {
   "cell_type": "code",
   "execution_count": 1,
   "metadata": {},
   "outputs": [],
   "source": [
    "import matplotlib.pyplot as plt\n",
    "import numpy as np\n",
    "import os\n",
    "\n",
    "# 모델 학습 후 정보가 담긴 history 내용을 토대로 선 그래프를 그리는 함수 설정\n",
    "\n",
    "\n",
    "def plot_loss(history, title=None):     # Loss Visualization\n",
    "    # summarize history for loss\n",
    "    if not isinstance(history, dict):\n",
    "        history = history.history\n",
    "\n",
    "    plt.plot(history['loss'])           # loss\n",
    "    plt.plot(history['val_loss'])       # validation\n",
    "    if title is not None:\n",
    "        plt.title(title)\n",
    "    plt.ylabel('Loss')\n",
    "    plt.xlabel('Epoch')\n",
    "    plt.legend(['Training data', 'Validation data'], loc=0)\n",
    "    # plt.show()\n",
    "\n",
    "def plot_accuracy(history, title=None):     # Loss Visualization\n",
    "    # summarize history for loss\n",
    "    if not isinstance(history, dict):\n",
    "        history = history.history\n",
    "\n",
    "    plt.plot(history['accuracy'])           # loss\n",
    "    plt.plot(history['val_accuracy'])       # validation\n",
    "    if title is not None:\n",
    "        plt.title(title)\n",
    "    plt.ylabel('Accuracy')\n",
    "    plt.xlabel('Epoch')\n",
    "    plt.legend(['Training data', 'Validation data'], loc=0)\n",
    "    # plt.show()"
   ]
  },
  {
   "cell_type": "code",
   "execution_count": 2,
   "metadata": {},
   "outputs": [
    {
     "output_type": "error",
     "ename": "NameError",
     "evalue": "name 'history' is not defined",
     "traceback": [
      "\u001b[1;31m---------------------------------------------------------------------------\u001b[0m",
      "\u001b[1;31mNameError\u001b[0m                                 Traceback (most recent call last)",
      "\u001b[1;32m<ipython-input-2-c5e6114b16d2>\u001b[0m in \u001b[0;36m<module>\u001b[1;34m\u001b[0m\n\u001b[0;32m      1\u001b[0m \u001b[1;31m# Visualization\u001b[0m\u001b[1;33m\u001b[0m\u001b[1;33m\u001b[0m\u001b[1;33m\u001b[0m\u001b[0m\n\u001b[1;32m----> 2\u001b[1;33m \u001b[0mplot_loss\u001b[0m\u001b[1;33m(\u001b[0m\u001b[0mhistory\u001b[0m\u001b[1;33m,\u001b[0m \u001b[1;34m'(a) Loss'\u001b[0m\u001b[1;33m)\u001b[0m  \u001b[1;31m# 학습 경과에 따른 정확도 변화 추이\u001b[0m\u001b[1;33m\u001b[0m\u001b[1;33m\u001b[0m\u001b[0m\n\u001b[0m\u001b[0;32m      3\u001b[0m \u001b[0mplt\u001b[0m\u001b[1;33m.\u001b[0m\u001b[0mshow\u001b[0m\u001b[1;33m(\u001b[0m\u001b[1;33m)\u001b[0m\u001b[1;33m\u001b[0m\u001b[1;33m\u001b[0m\u001b[0m\n\u001b[0;32m      4\u001b[0m \u001b[0mplot_accuracy\u001b[0m\u001b[1;33m(\u001b[0m\u001b[0mhistory\u001b[0m\u001b[1;33m,\u001b[0m \u001b[1;34m'(b)) Accuracy'\u001b[0m\u001b[1;33m)\u001b[0m\u001b[1;33m\u001b[0m\u001b[1;33m\u001b[0m\u001b[0m\n\u001b[0;32m      5\u001b[0m \u001b[0mplt\u001b[0m\u001b[1;33m.\u001b[0m\u001b[0mshow\u001b[0m\u001b[1;33m(\u001b[0m\u001b[1;33m)\u001b[0m\u001b[1;33m\u001b[0m\u001b[1;33m\u001b[0m\u001b[0m\n",
      "\u001b[1;31mNameError\u001b[0m: name 'history' is not defined"
     ]
    }
   ],
   "source": [
    "# Visualization\n",
    "plot_loss(history, '(a) Loss')  # 학습 경과에 따른 정확도 변화 추이\n",
    "plt.show()\n",
    "plot_accuracy(history, '(b)) Accuracy')\n",
    "plt.show()"
   ]
  },
  {
   "cell_type": "code",
   "execution_count": 3,
   "metadata": {},
   "outputs": [
    {
     "output_type": "error",
     "ename": "NameError",
     "evalue": "name 'model' is not defined",
     "traceback": [
      "\u001b[1;31m---------------------------------------------------------------------------\u001b[0m",
      "\u001b[1;31mNameError\u001b[0m                                 Traceback (most recent call last)",
      "\u001b[1;32m<ipython-input-3-62a90505b659>\u001b[0m in \u001b[0;36m<module>\u001b[1;34m\u001b[0m\n\u001b[1;32m----> 1\u001b[1;33m \u001b[0mmodel\u001b[0m\u001b[1;33m.\u001b[0m\u001b[0msave\u001b[0m\u001b[1;33m(\u001b[0m\u001b[1;34m'deepsong_modelfit_h.h5'\u001b[0m\u001b[1;33m)\u001b[0m \u001b[1;31m# 모델 아키텍처와 모델 가중치 저장\u001b[0m\u001b[1;33m\u001b[0m\u001b[1;33m\u001b[0m\u001b[0m\n\u001b[0m",
      "\u001b[1;31mNameError\u001b[0m: name 'model' is not defined"
     ]
    }
   ],
   "source": [
    "model.save('deepsong_modelfit_h.h5') # 모델 아키텍처와 모델 가중치 저장"
   ]
  },
  {
   "cell_type": "code",
   "execution_count": 4,
   "metadata": {},
   "outputs": [],
   "source": [
    "from tensorflow.keras.models import load_model\n",
    "model = load_model('deepsong_modelfit_h.h5')"
   ]
  },
  {
   "cell_type": "code",
   "execution_count": 5,
   "metadata": {},
   "outputs": [
    {
     "output_type": "error",
     "ename": "NameError",
     "evalue": "name 'glob' is not defined",
     "traceback": [
      "\u001b[1;31m---------------------------------------------------------------------------\u001b[0m",
      "\u001b[1;31mNameError\u001b[0m                                 Traceback (most recent call last)",
      "\u001b[1;32m<ipython-input-5-7587191d5dfa>\u001b[0m in \u001b[0;36m<module>\u001b[1;34m\u001b[0m\n\u001b[0;32m     18\u001b[0m \u001b[1;33m\u001b[0m\u001b[0m\n\u001b[0;32m     19\u001b[0m     \u001b[0mimage_dir\u001b[0m \u001b[1;33m=\u001b[0m \u001b[0mtest_dir\u001b[0m \u001b[1;33m+\u001b[0m \u001b[1;34m\"/\"\u001b[0m \u001b[1;33m+\u001b[0m \u001b[0mname\u001b[0m\u001b[1;33m\u001b[0m\u001b[1;33m\u001b[0m\u001b[0m\n\u001b[1;32m---> 20\u001b[1;33m     \u001b[0mfiles\u001b[0m \u001b[1;33m=\u001b[0m \u001b[0mglob\u001b[0m\u001b[1;33m.\u001b[0m\u001b[0mglob\u001b[0m\u001b[1;33m(\u001b[0m\u001b[0mimage_dir\u001b[0m\u001b[1;33m+\u001b[0m\u001b[1;34m\"/*.*\"\u001b[0m\u001b[1;33m)\u001b[0m\u001b[1;33m\u001b[0m\u001b[1;33m\u001b[0m\u001b[0m\n\u001b[0m\u001b[0;32m     21\u001b[0m     \u001b[0mprint\u001b[0m\u001b[1;33m(\u001b[0m\u001b[0mname\u001b[0m\u001b[1;33m,\u001b[0m \u001b[1;34m\" 파일 길이 : \"\u001b[0m\u001b[1;33m,\u001b[0m \u001b[0mlen\u001b[0m\u001b[1;33m(\u001b[0m\u001b[0mfiles\u001b[0m\u001b[1;33m)\u001b[0m\u001b[1;33m)\u001b[0m\u001b[1;33m\u001b[0m\u001b[1;33m\u001b[0m\u001b[0m\n\u001b[0;32m     22\u001b[0m     \u001b[1;32mfor\u001b[0m \u001b[0mi\u001b[0m\u001b[1;33m,\u001b[0m \u001b[0mf\u001b[0m \u001b[1;32min\u001b[0m \u001b[0menumerate\u001b[0m\u001b[1;33m(\u001b[0m\u001b[0mfiles\u001b[0m\u001b[1;33m)\u001b[0m\u001b[1;33m:\u001b[0m\u001b[1;33m\u001b[0m\u001b[1;33m\u001b[0m\u001b[0m\n",
      "\u001b[1;31mNameError\u001b[0m: name 'glob' is not defined"
     ]
    }
   ],
   "source": [
    "test_dir = './deepsong_2/test'\n",
    "categories = [\"volcano\", \"earth+mount\", \"fire\", \"heavysnow\", \"city\", \"nature\"]\n",
    "nb_classes = len(categories)\n",
    "\n",
    "image_w = 256\n",
    "image_h = 256\n",
    "\n",
    "pixels = image_h * image_w * 3\n",
    "\n",
    "test_image = []\n",
    "test_label = []\n",
    "\n",
    "for idx, name in enumerate(categories):\n",
    "    \n",
    "    #one-hot 돌리기.\n",
    "    label = [0 for i in range(nb_classes)]\n",
    "    label[idx] = 1\n",
    "\n",
    "    image_dir = test_dir + \"/\" + name\n",
    "    files = glob.glob(image_dir+\"/*.*\")\n",
    "    print(name, \" 파일 길이 : \", len(files))\n",
    "    for i, f in enumerate(files):\n",
    "        img = Image.open(f)\n",
    "        img = img.convert(\"RGB\")\n",
    "        img = img.resize((image_w, image_h))\n",
    "        data = np.asarray(img)\n",
    "\n",
    "        test_image.append(data)\n",
    "        test_label.append(label)\n",
    "\n",
    "        if i % 700 == 0:\n",
    "            print(name, \" : \", f)\n",
    "\n",
    "test_image = test_image.astype('float32')\n",
    "test_image = test_image / 255\n",
    "\n",
    "#test_image = np.array(test_image,dtype=np.float32)\n",
    "#test_image = test_image / 255\n",
    "\n",
    "test_image = np.array(test_image)\n",
    "test_label = np.array(test_label)\n",
    "\n",
    "\n",
    "import matplotlib.pyplot as plt\n",
    "%matplotlib inline \n",
    "\n",
    "plt.imshow(test_image[0,:,:,0])"
   ]
  },
  {
   "cell_type": "code",
   "execution_count": 6,
   "metadata": {},
   "outputs": [
    {
     "output_type": "error",
     "ename": "IndexError",
     "evalue": "list index out of range",
     "traceback": [
      "\u001b[1;31m---------------------------------------------------------------------------\u001b[0m",
      "\u001b[1;31mIndexError\u001b[0m                                Traceback (most recent call last)",
      "\u001b[1;32m<ipython-input-6-b77c7658e950>\u001b[0m in \u001b[0;36m<module>\u001b[1;34m\u001b[0m\n\u001b[1;32m----> 1\u001b[1;33m \u001b[0mpred\u001b[0m \u001b[1;33m=\u001b[0m \u001b[0mmodel\u001b[0m\u001b[1;33m.\u001b[0m\u001b[0mpredict\u001b[0m\u001b[1;33m(\u001b[0m\u001b[0mtest_image\u001b[0m\u001b[1;33m)\u001b[0m\u001b[1;33m\u001b[0m\u001b[1;33m\u001b[0m\u001b[0m\n\u001b[0m\u001b[0;32m      2\u001b[0m \u001b[0mprint\u001b[0m\u001b[1;33m(\u001b[0m\u001b[0mtest_label\u001b[0m\u001b[1;33m[\u001b[0m\u001b[1;36m0\u001b[0m\u001b[1;33m]\u001b[0m\u001b[1;33m,\u001b[0m \u001b[0mpred\u001b[0m\u001b[1;33m[\u001b[0m\u001b[1;36m0\u001b[0m\u001b[1;33m]\u001b[0m\u001b[1;33m)\u001b[0m\u001b[1;33m\u001b[0m\u001b[1;33m\u001b[0m\u001b[0m\n",
      "\u001b[1;32m~\\Anaconda3\\lib\\site-packages\\tensorflow_core\\python\\keras\\engine\\training.py\u001b[0m in \u001b[0;36mpredict\u001b[1;34m(self, x, batch_size, verbose, steps, callbacks, max_queue_size, workers, use_multiprocessing)\u001b[0m\n\u001b[0;32m   1011\u001b[0m         \u001b[0mmax_queue_size\u001b[0m\u001b[1;33m=\u001b[0m\u001b[0mmax_queue_size\u001b[0m\u001b[1;33m,\u001b[0m\u001b[1;33m\u001b[0m\u001b[1;33m\u001b[0m\u001b[0m\n\u001b[0;32m   1012\u001b[0m         \u001b[0mworkers\u001b[0m\u001b[1;33m=\u001b[0m\u001b[0mworkers\u001b[0m\u001b[1;33m,\u001b[0m\u001b[1;33m\u001b[0m\u001b[1;33m\u001b[0m\u001b[0m\n\u001b[1;32m-> 1013\u001b[1;33m         use_multiprocessing=use_multiprocessing)\n\u001b[0m\u001b[0;32m   1014\u001b[0m \u001b[1;33m\u001b[0m\u001b[0m\n\u001b[0;32m   1015\u001b[0m   \u001b[1;32mdef\u001b[0m \u001b[0mreset_metrics\u001b[0m\u001b[1;33m(\u001b[0m\u001b[0mself\u001b[0m\u001b[1;33m)\u001b[0m\u001b[1;33m:\u001b[0m\u001b[1;33m\u001b[0m\u001b[1;33m\u001b[0m\u001b[0m\n",
      "\u001b[1;32m~\\Anaconda3\\lib\\site-packages\\tensorflow_core\\python\\keras\\engine\\training_v2.py\u001b[0m in \u001b[0;36mpredict\u001b[1;34m(self, model, x, batch_size, verbose, steps, callbacks, max_queue_size, workers, use_multiprocessing, **kwargs)\u001b[0m\n\u001b[0;32m    496\u001b[0m         \u001b[0mmodel\u001b[0m\u001b[1;33m,\u001b[0m \u001b[0mModeKeys\u001b[0m\u001b[1;33m.\u001b[0m\u001b[0mPREDICT\u001b[0m\u001b[1;33m,\u001b[0m \u001b[0mx\u001b[0m\u001b[1;33m=\u001b[0m\u001b[0mx\u001b[0m\u001b[1;33m,\u001b[0m \u001b[0mbatch_size\u001b[0m\u001b[1;33m=\u001b[0m\u001b[0mbatch_size\u001b[0m\u001b[1;33m,\u001b[0m \u001b[0mverbose\u001b[0m\u001b[1;33m=\u001b[0m\u001b[0mverbose\u001b[0m\u001b[1;33m,\u001b[0m\u001b[1;33m\u001b[0m\u001b[1;33m\u001b[0m\u001b[0m\n\u001b[0;32m    497\u001b[0m         \u001b[0msteps\u001b[0m\u001b[1;33m=\u001b[0m\u001b[0msteps\u001b[0m\u001b[1;33m,\u001b[0m \u001b[0mcallbacks\u001b[0m\u001b[1;33m=\u001b[0m\u001b[0mcallbacks\u001b[0m\u001b[1;33m,\u001b[0m \u001b[0mmax_queue_size\u001b[0m\u001b[1;33m=\u001b[0m\u001b[0mmax_queue_size\u001b[0m\u001b[1;33m,\u001b[0m\u001b[1;33m\u001b[0m\u001b[1;33m\u001b[0m\u001b[0m\n\u001b[1;32m--> 498\u001b[1;33m         workers=workers, use_multiprocessing=use_multiprocessing, **kwargs)\n\u001b[0m\u001b[0;32m    499\u001b[0m \u001b[1;33m\u001b[0m\u001b[0m\n\u001b[0;32m    500\u001b[0m \u001b[1;33m\u001b[0m\u001b[0m\n",
      "\u001b[1;32m~\\Anaconda3\\lib\\site-packages\\tensorflow_core\\python\\keras\\engine\\training_v2.py\u001b[0m in \u001b[0;36m_model_iteration\u001b[1;34m(self, model, mode, x, y, batch_size, verbose, sample_weight, steps, callbacks, max_queue_size, workers, use_multiprocessing, **kwargs)\u001b[0m\n\u001b[0;32m    408\u001b[0m     \u001b[0mstrategy\u001b[0m \u001b[1;33m=\u001b[0m \u001b[0m_get_distribution_strategy\u001b[0m\u001b[1;33m(\u001b[0m\u001b[0mmodel\u001b[0m\u001b[1;33m)\u001b[0m\u001b[1;33m\u001b[0m\u001b[1;33m\u001b[0m\u001b[0m\n\u001b[0;32m    409\u001b[0m     batch_size, steps = dist_utils.process_batch_and_step_size(\n\u001b[1;32m--> 410\u001b[1;33m         strategy, x, batch_size, steps, mode)\n\u001b[0m\u001b[0;32m    411\u001b[0m     dist_utils.validate_callbacks(input_callbacks=callbacks,\n\u001b[0;32m    412\u001b[0m                                   optimizer=model.optimizer)\n",
      "\u001b[1;32m~\\Anaconda3\\lib\\site-packages\\tensorflow_core\\python\\keras\\distribute\\distributed_training_utils.py\u001b[0m in \u001b[0;36mprocess_batch_and_step_size\u001b[1;34m(strategy, inputs, batch_size, steps_per_epoch, mode, validation_split)\u001b[0m\n\u001b[0;32m    458\u001b[0m                                 validation_split=0.):\n\u001b[0;32m    459\u001b[0m   \u001b[1;34m\"\"\"Process the batch size and step size based on input and dist strategy.\"\"\"\u001b[0m\u001b[1;33m\u001b[0m\u001b[1;33m\u001b[0m\u001b[0m\n\u001b[1;32m--> 460\u001b[1;33m   \u001b[0mfirst_x_value\u001b[0m \u001b[1;33m=\u001b[0m \u001b[0mnest\u001b[0m\u001b[1;33m.\u001b[0m\u001b[0mflatten\u001b[0m\u001b[1;33m(\u001b[0m\u001b[0minputs\u001b[0m\u001b[1;33m)\u001b[0m\u001b[1;33m[\u001b[0m\u001b[1;36m0\u001b[0m\u001b[1;33m]\u001b[0m\u001b[1;33m\u001b[0m\u001b[1;33m\u001b[0m\u001b[0m\n\u001b[0m\u001b[0;32m    461\u001b[0m   \u001b[1;32mif\u001b[0m \u001b[0misinstance\u001b[0m\u001b[1;33m(\u001b[0m\u001b[0mfirst_x_value\u001b[0m\u001b[1;33m,\u001b[0m \u001b[0mnp\u001b[0m\u001b[1;33m.\u001b[0m\u001b[0mndarray\u001b[0m\u001b[1;33m)\u001b[0m\u001b[1;33m:\u001b[0m\u001b[1;33m\u001b[0m\u001b[1;33m\u001b[0m\u001b[0m\n\u001b[0;32m    462\u001b[0m     \u001b[0mnum_samples\u001b[0m \u001b[1;33m=\u001b[0m \u001b[0mfirst_x_value\u001b[0m\u001b[1;33m.\u001b[0m\u001b[0mshape\u001b[0m\u001b[1;33m[\u001b[0m\u001b[1;36m0\u001b[0m\u001b[1;33m]\u001b[0m\u001b[1;33m\u001b[0m\u001b[1;33m\u001b[0m\u001b[0m\n",
      "\u001b[1;31mIndexError\u001b[0m: list index out of range"
     ]
    }
   ],
   "source": [
    "pred = model.predict(test_image)\n",
    "print(test_label[0], pred[0])"
   ]
  },
  {
   "cell_type": "code",
   "execution_count": 7,
   "metadata": {},
   "outputs": [
    {
     "output_type": "error",
     "ename": "IndexError",
     "evalue": "list index out of range",
     "traceback": [
      "\u001b[1;31m---------------------------------------------------------------------------\u001b[0m",
      "\u001b[1;31mIndexError\u001b[0m                                Traceback (most recent call last)",
      "\u001b[1;32m<ipython-input-7-4ab35cbb6cf4>\u001b[0m in \u001b[0;36m<module>\u001b[1;34m\u001b[0m\n\u001b[1;32m----> 1\u001b[1;33m \u001b[0mtest\u001b[0m \u001b[1;33m=\u001b[0m \u001b[0mmodel\u001b[0m\u001b[1;33m.\u001b[0m\u001b[0mevaluate\u001b[0m\u001b[1;33m(\u001b[0m\u001b[0mtest_image\u001b[0m\u001b[1;33m,\u001b[0m \u001b[0mtest_label\u001b[0m\u001b[1;33m,\u001b[0m \u001b[0mverbose\u001b[0m\u001b[1;33m=\u001b[0m\u001b[1;36m0\u001b[0m\u001b[1;33m)\u001b[0m\u001b[1;33m\u001b[0m\u001b[1;33m\u001b[0m\u001b[0m\n\u001b[0m\u001b[0;32m      2\u001b[0m \u001b[1;33m\u001b[0m\u001b[0m\n\u001b[0;32m      3\u001b[0m \u001b[0mprint\u001b[0m\u001b[1;33m(\u001b[0m\u001b[1;34m'loss :'\u001b[0m\u001b[1;33m,\u001b[0m \u001b[0mtest\u001b[0m\u001b[1;33m[\u001b[0m\u001b[1;36m0\u001b[0m\u001b[1;33m]\u001b[0m\u001b[1;33m)\u001b[0m\u001b[1;33m\u001b[0m\u001b[1;33m\u001b[0m\u001b[0m\n\u001b[0;32m      4\u001b[0m \u001b[0mprint\u001b[0m\u001b[1;33m(\u001b[0m\u001b[1;34m'ACCURACY :'\u001b[0m\u001b[1;33m,\u001b[0m \u001b[0mtest\u001b[0m\u001b[1;33m[\u001b[0m\u001b[1;36m1\u001b[0m\u001b[1;33m]\u001b[0m\u001b[1;33m)\u001b[0m\u001b[1;33m\u001b[0m\u001b[1;33m\u001b[0m\u001b[0m\n",
      "\u001b[1;32m~\\Anaconda3\\lib\\site-packages\\tensorflow_core\\python\\keras\\engine\\training.py\u001b[0m in \u001b[0;36mevaluate\u001b[1;34m(self, x, y, batch_size, verbose, sample_weight, steps, callbacks, max_queue_size, workers, use_multiprocessing)\u001b[0m\n\u001b[0;32m    928\u001b[0m         \u001b[0mmax_queue_size\u001b[0m\u001b[1;33m=\u001b[0m\u001b[0mmax_queue_size\u001b[0m\u001b[1;33m,\u001b[0m\u001b[1;33m\u001b[0m\u001b[1;33m\u001b[0m\u001b[0m\n\u001b[0;32m    929\u001b[0m         \u001b[0mworkers\u001b[0m\u001b[1;33m=\u001b[0m\u001b[0mworkers\u001b[0m\u001b[1;33m,\u001b[0m\u001b[1;33m\u001b[0m\u001b[1;33m\u001b[0m\u001b[0m\n\u001b[1;32m--> 930\u001b[1;33m         use_multiprocessing=use_multiprocessing)\n\u001b[0m\u001b[0;32m    931\u001b[0m \u001b[1;33m\u001b[0m\u001b[0m\n\u001b[0;32m    932\u001b[0m   def predict(self,\n",
      "\u001b[1;32m~\\Anaconda3\\lib\\site-packages\\tensorflow_core\\python\\keras\\engine\\training_v2.py\u001b[0m in \u001b[0;36mevaluate\u001b[1;34m(self, model, x, y, batch_size, verbose, sample_weight, steps, callbacks, max_queue_size, workers, use_multiprocessing, **kwargs)\u001b[0m\n\u001b[0;32m    488\u001b[0m         \u001b[0msample_weight\u001b[0m\u001b[1;33m=\u001b[0m\u001b[0msample_weight\u001b[0m\u001b[1;33m,\u001b[0m \u001b[0msteps\u001b[0m\u001b[1;33m=\u001b[0m\u001b[0msteps\u001b[0m\u001b[1;33m,\u001b[0m \u001b[0mcallbacks\u001b[0m\u001b[1;33m=\u001b[0m\u001b[0mcallbacks\u001b[0m\u001b[1;33m,\u001b[0m\u001b[1;33m\u001b[0m\u001b[1;33m\u001b[0m\u001b[0m\n\u001b[0;32m    489\u001b[0m         \u001b[0mmax_queue_size\u001b[0m\u001b[1;33m=\u001b[0m\u001b[0mmax_queue_size\u001b[0m\u001b[1;33m,\u001b[0m \u001b[0mworkers\u001b[0m\u001b[1;33m=\u001b[0m\u001b[0mworkers\u001b[0m\u001b[1;33m,\u001b[0m\u001b[1;33m\u001b[0m\u001b[1;33m\u001b[0m\u001b[0m\n\u001b[1;32m--> 490\u001b[1;33m         use_multiprocessing=use_multiprocessing, **kwargs)\n\u001b[0m\u001b[0;32m    491\u001b[0m \u001b[1;33m\u001b[0m\u001b[0m\n\u001b[0;32m    492\u001b[0m   def predict(self, model, x, batch_size=None, verbose=0, steps=None,\n",
      "\u001b[1;32m~\\Anaconda3\\lib\\site-packages\\tensorflow_core\\python\\keras\\engine\\training_v2.py\u001b[0m in \u001b[0;36m_model_iteration\u001b[1;34m(self, model, mode, x, y, batch_size, verbose, sample_weight, steps, callbacks, max_queue_size, workers, use_multiprocessing, **kwargs)\u001b[0m\n\u001b[0;32m    408\u001b[0m     \u001b[0mstrategy\u001b[0m \u001b[1;33m=\u001b[0m \u001b[0m_get_distribution_strategy\u001b[0m\u001b[1;33m(\u001b[0m\u001b[0mmodel\u001b[0m\u001b[1;33m)\u001b[0m\u001b[1;33m\u001b[0m\u001b[1;33m\u001b[0m\u001b[0m\n\u001b[0;32m    409\u001b[0m     batch_size, steps = dist_utils.process_batch_and_step_size(\n\u001b[1;32m--> 410\u001b[1;33m         strategy, x, batch_size, steps, mode)\n\u001b[0m\u001b[0;32m    411\u001b[0m     dist_utils.validate_callbacks(input_callbacks=callbacks,\n\u001b[0;32m    412\u001b[0m                                   optimizer=model.optimizer)\n",
      "\u001b[1;32m~\\Anaconda3\\lib\\site-packages\\tensorflow_core\\python\\keras\\distribute\\distributed_training_utils.py\u001b[0m in \u001b[0;36mprocess_batch_and_step_size\u001b[1;34m(strategy, inputs, batch_size, steps_per_epoch, mode, validation_split)\u001b[0m\n\u001b[0;32m    458\u001b[0m                                 validation_split=0.):\n\u001b[0;32m    459\u001b[0m   \u001b[1;34m\"\"\"Process the batch size and step size based on input and dist strategy.\"\"\"\u001b[0m\u001b[1;33m\u001b[0m\u001b[1;33m\u001b[0m\u001b[0m\n\u001b[1;32m--> 460\u001b[1;33m   \u001b[0mfirst_x_value\u001b[0m \u001b[1;33m=\u001b[0m \u001b[0mnest\u001b[0m\u001b[1;33m.\u001b[0m\u001b[0mflatten\u001b[0m\u001b[1;33m(\u001b[0m\u001b[0minputs\u001b[0m\u001b[1;33m)\u001b[0m\u001b[1;33m[\u001b[0m\u001b[1;36m0\u001b[0m\u001b[1;33m]\u001b[0m\u001b[1;33m\u001b[0m\u001b[1;33m\u001b[0m\u001b[0m\n\u001b[0m\u001b[0;32m    461\u001b[0m   \u001b[1;32mif\u001b[0m \u001b[0misinstance\u001b[0m\u001b[1;33m(\u001b[0m\u001b[0mfirst_x_value\u001b[0m\u001b[1;33m,\u001b[0m \u001b[0mnp\u001b[0m\u001b[1;33m.\u001b[0m\u001b[0mndarray\u001b[0m\u001b[1;33m)\u001b[0m\u001b[1;33m:\u001b[0m\u001b[1;33m\u001b[0m\u001b[1;33m\u001b[0m\u001b[0m\n\u001b[0;32m    462\u001b[0m     \u001b[0mnum_samples\u001b[0m \u001b[1;33m=\u001b[0m \u001b[0mfirst_x_value\u001b[0m\u001b[1;33m.\u001b[0m\u001b[0mshape\u001b[0m\u001b[1;33m[\u001b[0m\u001b[1;36m0\u001b[0m\u001b[1;33m]\u001b[0m\u001b[1;33m\u001b[0m\u001b[1;33m\u001b[0m\u001b[0m\n",
      "\u001b[1;31mIndexError\u001b[0m: list index out of range"
     ]
    }
   ],
   "source": [
    "test = model.evaluate(test_image, test_label, verbose=0)\n",
    "\n",
    "print('loss :', test[0])\n",
    "print('ACCURACY :', test[1])"
   ]
  },
  {
   "cell_type": "code",
   "execution_count": 8,
   "metadata": {},
   "outputs": [
    {
     "output_type": "error",
     "ename": "NameError",
     "evalue": "name 'pred' is not defined",
     "traceback": [
      "\u001b[1;31m---------------------------------------------------------------------------\u001b[0m",
      "\u001b[1;31mNameError\u001b[0m                                 Traceback (most recent call last)",
      "\u001b[1;32m<ipython-input-8-2c37b4631818>\u001b[0m in \u001b[0;36m<module>\u001b[1;34m\u001b[0m\n\u001b[1;32m----> 1\u001b[1;33m \u001b[0mpred\u001b[0m \u001b[1;33m=\u001b[0m \u001b[0mnp\u001b[0m\u001b[1;33m.\u001b[0m\u001b[0margmax\u001b[0m\u001b[1;33m(\u001b[0m\u001b[0mpred\u001b[0m\u001b[1;33m,\u001b[0m \u001b[0maxis\u001b[0m\u001b[1;33m=\u001b[0m\u001b[1;36m1\u001b[0m\u001b[1;33m)\u001b[0m\u001b[1;33m\u001b[0m\u001b[1;33m\u001b[0m\u001b[0m\n\u001b[0m\u001b[0;32m      2\u001b[0m \u001b[0mtest_label\u001b[0m \u001b[1;33m=\u001b[0m \u001b[0mnp\u001b[0m\u001b[1;33m.\u001b[0m\u001b[0margmax\u001b[0m\u001b[1;33m(\u001b[0m\u001b[0mtest_label\u001b[0m\u001b[1;33m,\u001b[0m \u001b[0maxis\u001b[0m\u001b[1;33m=\u001b[0m\u001b[1;36m1\u001b[0m\u001b[1;33m)\u001b[0m\u001b[1;33m\u001b[0m\u001b[1;33m\u001b[0m\u001b[0m\n",
      "\u001b[1;31mNameError\u001b[0m: name 'pred' is not defined"
     ]
    }
   ],
   "source": [
    "pred = np.argmax(pred, axis=1)\n",
    "test_label = np.argmax(test_label, axis=1)"
   ]
  },
  {
   "cell_type": "code",
   "execution_count": 9,
   "metadata": {},
   "outputs": [
    {
     "output_type": "error",
     "ename": "NameError",
     "evalue": "name 'pred' is not defined",
     "traceback": [
      "\u001b[1;31m---------------------------------------------------------------------------\u001b[0m",
      "\u001b[1;31mNameError\u001b[0m                                 Traceback (most recent call last)",
      "\u001b[1;32m<ipython-input-9-f1d57032c4c9>\u001b[0m in \u001b[0;36m<module>\u001b[1;34m\u001b[0m\n\u001b[0;32m     21\u001b[0m         \u001b[0mi\u001b[0m\u001b[1;33m+=\u001b[0m\u001b[1;36m1\u001b[0m\u001b[1;33m\u001b[0m\u001b[1;33m\u001b[0m\u001b[0m\n\u001b[0;32m     22\u001b[0m     \u001b[1;32mreturn\u001b[0m \u001b[0mzero_true_positive\u001b[0m\u001b[1;33m,\u001b[0m \u001b[0mone_true_positive\u001b[0m\u001b[1;33m,\u001b[0m \u001b[0mtwo_true_positive\u001b[0m\u001b[1;33m,\u001b[0m \u001b[0mthree_true_positive\u001b[0m\u001b[1;33m,\u001b[0m \u001b[0mfour_true_positive\u001b[0m\u001b[1;33m,\u001b[0m \u001b[0mfive_true_positive\u001b[0m\u001b[1;33m\u001b[0m\u001b[1;33m\u001b[0m\u001b[0m\n\u001b[1;32m---> 23\u001b[1;33m \u001b[0mprint\u001b[0m\u001b[1;33m(\u001b[0m\u001b[1;34m'true positive_each label:'\u001b[0m\u001b[1;33m,\u001b[0m \u001b[0mtrue_positive\u001b[0m\u001b[1;33m(\u001b[0m\u001b[0mtest_label\u001b[0m\u001b[1;33m,\u001b[0m \u001b[0mpred\u001b[0m\u001b[1;33m)\u001b[0m\u001b[1;33m)\u001b[0m\u001b[1;33m\u001b[0m\u001b[1;33m\u001b[0m\u001b[0m\n\u001b[0m",
      "\u001b[1;31mNameError\u001b[0m: name 'pred' is not defined"
     ]
    }
   ],
   "source": [
    "def true_positive(y_true, y_pred):\n",
    "    zero_true_positive  = 0 \n",
    "    one_true_positive  = 0 \n",
    "    two_true_positive  = 0 \n",
    "    three_true_positive  = 0\n",
    "    four_true_positive  = 0\n",
    "    five_true_positive  = 0\n",
    "    for i in range (1877):\n",
    "        if y_pred[i] == 0 and y_true[i] == 0: \n",
    "            zero_true_positive += 1\n",
    "        elif y_pred[i] == 1 and y_true[i] == 1:\n",
    "            one_true_positive += 1\n",
    "        elif y_pred[i] == 2 and y_true[i] == 2:\n",
    "            two_true_positive += 1\n",
    "        elif y_pred[i] == 3 and y_true[i] == 3:\n",
    "            three_true_positive += 1\n",
    "        elif y_pred[i] == 4 and y_true[i] == 4:\n",
    "            four_true_positive += 1\n",
    "        elif y_pred[i] == 5 and y_true[i] == 5:\n",
    "            five_true_positive += 1\n",
    "        i+=1\n",
    "    return zero_true_positive, one_true_positive, two_true_positive, three_true_positive, four_true_positive, five_true_positive\n",
    "print('true positive_each label:', true_positive(test_label, pred))"
   ]
  },
  {
   "cell_type": "code",
   "execution_count": 10,
   "metadata": {},
   "outputs": [
    {
     "output_type": "error",
     "ename": "NameError",
     "evalue": "name 'pred' is not defined",
     "traceback": [
      "\u001b[1;31m---------------------------------------------------------------------------\u001b[0m",
      "\u001b[1;31mNameError\u001b[0m                                 Traceback (most recent call last)",
      "\u001b[1;32m<ipython-input-10-bfd740a90b8f>\u001b[0m in \u001b[0;36m<module>\u001b[1;34m\u001b[0m\n\u001b[0;32m     18\u001b[0m         \u001b[0mi\u001b[0m\u001b[1;33m+=\u001b[0m\u001b[1;36m1\u001b[0m\u001b[1;33m\u001b[0m\u001b[1;33m\u001b[0m\u001b[0m\n\u001b[0;32m     19\u001b[0m     \u001b[1;32mreturn\u001b[0m \u001b[0mone_false\u001b[0m\u001b[1;33m,\u001b[0m \u001b[0mtwo_false\u001b[0m\u001b[1;33m,\u001b[0m \u001b[0mthree_false\u001b[0m\u001b[1;33m,\u001b[0m \u001b[0mfour_false\u001b[0m\u001b[1;33m,\u001b[0m \u001b[0mfive_false\u001b[0m\u001b[1;33m\u001b[0m\u001b[1;33m\u001b[0m\u001b[0m\n\u001b[1;32m---> 20\u001b[1;33m \u001b[0mprint\u001b[0m\u001b[1;33m(\u001b[0m\u001b[1;34m'zero_negative:'\u001b[0m\u001b[1;33m,\u001b[0m \u001b[0mzero_negative\u001b[0m\u001b[1;33m(\u001b[0m\u001b[0mtest_label\u001b[0m\u001b[1;33m,\u001b[0m \u001b[0mpred\u001b[0m\u001b[1;33m)\u001b[0m\u001b[1;33m)\u001b[0m\u001b[1;33m\u001b[0m\u001b[1;33m\u001b[0m\u001b[0m\n\u001b[0m",
      "\u001b[1;31mNameError\u001b[0m: name 'pred' is not defined"
     ]
    }
   ],
   "source": [
    "def zero_negative(y_true, y_pred):\n",
    "    one_false  = 0 \n",
    "    two_false  = 0 \n",
    "    three_false  = 0 \n",
    "    four_false  = 0 \n",
    "    five_false  = 0 \n",
    "    for i in range (1877):\n",
    "        if y_pred[i] == 1 and y_true[i] == 0:\n",
    "            one_false += 1\n",
    "        elif y_pred[i] == 2 and y_true[i] == 0:\n",
    "            two_false += 1\n",
    "        elif y_pred[i] == 3 and y_true[i] == 0:\n",
    "            three_false += 1\n",
    "        elif y_pred[i] == 4 and y_true[i] == 0:\n",
    "            four_false += 1\n",
    "        elif y_pred[i] == 5 and y_true[i] == 0:\n",
    "            five_false += 1\n",
    "        i+=1\n",
    "    return one_false, two_false, three_false, four_false, five_false\n",
    "print('zero_negative:', zero_negative(test_label, pred))"
   ]
  },
  {
   "cell_type": "code",
   "execution_count": 11,
   "metadata": {},
   "outputs": [
    {
     "output_type": "error",
     "ename": "NameError",
     "evalue": "name 'pred' is not defined",
     "traceback": [
      "\u001b[1;31m---------------------------------------------------------------------------\u001b[0m",
      "\u001b[1;31mNameError\u001b[0m                                 Traceback (most recent call last)",
      "\u001b[1;32m<ipython-input-11-4bdb19c406a4>\u001b[0m in \u001b[0;36m<module>\u001b[1;34m\u001b[0m\n\u001b[0;32m     18\u001b[0m         \u001b[0mi\u001b[0m\u001b[1;33m+=\u001b[0m\u001b[1;36m1\u001b[0m\u001b[1;33m\u001b[0m\u001b[1;33m\u001b[0m\u001b[0m\n\u001b[0;32m     19\u001b[0m     \u001b[1;32mreturn\u001b[0m \u001b[0mzero_false\u001b[0m\u001b[1;33m,\u001b[0m \u001b[0mtwo_false\u001b[0m\u001b[1;33m,\u001b[0m \u001b[0mthree_false\u001b[0m\u001b[1;33m,\u001b[0m \u001b[0mfour_false\u001b[0m\u001b[1;33m,\u001b[0m \u001b[0mfive_false\u001b[0m\u001b[1;33m\u001b[0m\u001b[1;33m\u001b[0m\u001b[0m\n\u001b[1;32m---> 20\u001b[1;33m \u001b[0mprint\u001b[0m\u001b[1;33m(\u001b[0m\u001b[1;34m'one_negative:'\u001b[0m\u001b[1;33m,\u001b[0m \u001b[0mone_negative\u001b[0m\u001b[1;33m(\u001b[0m\u001b[0mtest_label\u001b[0m\u001b[1;33m,\u001b[0m \u001b[0mpred\u001b[0m\u001b[1;33m)\u001b[0m\u001b[1;33m)\u001b[0m\u001b[1;33m\u001b[0m\u001b[1;33m\u001b[0m\u001b[0m\n\u001b[0m",
      "\u001b[1;31mNameError\u001b[0m: name 'pred' is not defined"
     ]
    }
   ],
   "source": [
    "def one_negative(y_true, y_pred):\n",
    "    zero_false  = 0 # TP 초기화\n",
    "    two_false  = 0 # TP 초기화\n",
    "    three_false  = 0 # TP 초기화\n",
    "    four_false  = 0 # TP 초기화\n",
    "    five_false  = 0 # TP 초기화\n",
    "    for i in range (1877):\n",
    "        if y_pred[i] == 0 and y_true[i] == 1:\n",
    "            zero_false += 1\n",
    "        elif y_pred[i] == 2 and y_true[i] == 1:\n",
    "            two_false += 1\n",
    "        elif y_pred[i] == 3 and y_true[i] == 1:\n",
    "            three_false += 1\n",
    "        elif y_pred[i] == 4 and y_true[i] == 1:\n",
    "            four_false += 1\n",
    "        elif y_pred[i] == 5 and y_true[i] == 1:\n",
    "            five_false += 1\n",
    "        i+=1\n",
    "    return zero_false, two_false, three_false, four_false, five_false\n",
    "print('one_negative:', one_negative(test_label, pred))"
   ]
  },
  {
   "cell_type": "code",
   "execution_count": 12,
   "metadata": {},
   "outputs": [
    {
     "output_type": "error",
     "ename": "NameError",
     "evalue": "name 'pred' is not defined",
     "traceback": [
      "\u001b[1;31m---------------------------------------------------------------------------\u001b[0m",
      "\u001b[1;31mNameError\u001b[0m                                 Traceback (most recent call last)",
      "\u001b[1;32m<ipython-input-12-565187492999>\u001b[0m in \u001b[0;36m<module>\u001b[1;34m\u001b[0m\n\u001b[0;32m     18\u001b[0m         \u001b[0mi\u001b[0m\u001b[1;33m+=\u001b[0m\u001b[1;36m1\u001b[0m\u001b[1;33m\u001b[0m\u001b[1;33m\u001b[0m\u001b[0m\n\u001b[0;32m     19\u001b[0m     \u001b[1;32mreturn\u001b[0m \u001b[0mzero_false\u001b[0m\u001b[1;33m,\u001b[0m \u001b[0mone_false\u001b[0m\u001b[1;33m,\u001b[0m \u001b[0mthree_false\u001b[0m\u001b[1;33m,\u001b[0m \u001b[0mfour_false\u001b[0m\u001b[1;33m,\u001b[0m \u001b[0mfive_false\u001b[0m\u001b[1;33m\u001b[0m\u001b[1;33m\u001b[0m\u001b[0m\n\u001b[1;32m---> 20\u001b[1;33m \u001b[0mprint\u001b[0m\u001b[1;33m(\u001b[0m\u001b[1;34m'two_negative:'\u001b[0m\u001b[1;33m,\u001b[0m \u001b[0mtwo_negative\u001b[0m\u001b[1;33m(\u001b[0m\u001b[0mtest_label\u001b[0m\u001b[1;33m,\u001b[0m \u001b[0mpred\u001b[0m\u001b[1;33m)\u001b[0m\u001b[1;33m)\u001b[0m\u001b[1;33m\u001b[0m\u001b[1;33m\u001b[0m\u001b[0m\n\u001b[0m",
      "\u001b[1;31mNameError\u001b[0m: name 'pred' is not defined"
     ]
    }
   ],
   "source": [
    "def two_negative(y_true, y_pred):\n",
    "    zero_false  = 0 # TP 초기화\n",
    "    one_false  = 0 # TP 초기화\n",
    "    three_false  = 0 # TP 초기화\n",
    "    four_false  = 0 # TP 초기화\n",
    "    five_false  = 0 # TP 초기화\n",
    "    for i in range (1877):\n",
    "        if y_pred[i] == 0 and y_true[i] == 2:\n",
    "            zero_false += 1\n",
    "        elif y_pred[i] == 1 and y_true[i] == 2:\n",
    "            one_false += 1\n",
    "        elif y_pred[i] == 3 and y_true[i] == 2:\n",
    "            three_false += 1\n",
    "        elif y_pred[i] == 4 and y_true[i] == 2:\n",
    "            four_false += 1\n",
    "        elif y_pred[i] == 5 and y_true[i] == 2:\n",
    "            five_false += 1\n",
    "        i+=1\n",
    "    return zero_false, one_false, three_false, four_false, five_false\n",
    "print('two_negative:', two_negative(test_label, pred))"
   ]
  },
  {
   "cell_type": "code",
   "execution_count": 13,
   "metadata": {},
   "outputs": [
    {
     "output_type": "error",
     "ename": "NameError",
     "evalue": "name 'pred' is not defined",
     "traceback": [
      "\u001b[1;31m---------------------------------------------------------------------------\u001b[0m",
      "\u001b[1;31mNameError\u001b[0m                                 Traceback (most recent call last)",
      "\u001b[1;32m<ipython-input-13-22c4a7e36963>\u001b[0m in \u001b[0;36m<module>\u001b[1;34m\u001b[0m\n\u001b[0;32m     18\u001b[0m         \u001b[0mi\u001b[0m\u001b[1;33m+=\u001b[0m\u001b[1;36m1\u001b[0m\u001b[1;33m\u001b[0m\u001b[1;33m\u001b[0m\u001b[0m\n\u001b[0;32m     19\u001b[0m     \u001b[1;32mreturn\u001b[0m \u001b[0mzero_false\u001b[0m\u001b[1;33m,\u001b[0m \u001b[0mone_false\u001b[0m\u001b[1;33m,\u001b[0m \u001b[0mtwo_false\u001b[0m\u001b[1;33m,\u001b[0m \u001b[0mfour_false\u001b[0m\u001b[1;33m,\u001b[0m \u001b[0mfive_false\u001b[0m\u001b[1;33m\u001b[0m\u001b[1;33m\u001b[0m\u001b[0m\n\u001b[1;32m---> 20\u001b[1;33m \u001b[0mprint\u001b[0m\u001b[1;33m(\u001b[0m\u001b[1;34m'three_negative:'\u001b[0m\u001b[1;33m,\u001b[0m \u001b[0mthree_negative\u001b[0m\u001b[1;33m(\u001b[0m\u001b[0mtest_label\u001b[0m\u001b[1;33m,\u001b[0m \u001b[0mpred\u001b[0m\u001b[1;33m)\u001b[0m\u001b[1;33m)\u001b[0m\u001b[1;33m\u001b[0m\u001b[1;33m\u001b[0m\u001b[0m\n\u001b[0m",
      "\u001b[1;31mNameError\u001b[0m: name 'pred' is not defined"
     ]
    }
   ],
   "source": [
    "def three_negative(y_true, y_pred):\n",
    "    zero_false  = 0 # TP 초기화\n",
    "    one_false  = 0 # TP 초기화\n",
    "    two_false  = 0 # TP 초기화\n",
    "    four_false  = 0 # TP 초기화\n",
    "    five_false  = 0 # TP 초기화\n",
    "    for i in range (1877):\n",
    "        if y_pred[i] == 0 and y_true[i] == 3:\n",
    "            zero_false += 1\n",
    "        elif y_pred[i] == 1 and y_true[i] == 3:\n",
    "            one_false += 1\n",
    "        elif y_pred[i] == 2 and y_true[i] == 3:\n",
    "            two_false += 1\n",
    "        elif y_pred[i] == 4 and y_true[i] == 3:\n",
    "            four_false += 1\n",
    "        elif y_pred[i] == 5 and y_true[i] == 3:\n",
    "            five_false += 1\n",
    "        i+=1\n",
    "    return zero_false, one_false, two_false, four_false, five_false\n",
    "print('three_negative:', three_negative(test_label, pred))"
   ]
  },
  {
   "cell_type": "code",
   "execution_count": 14,
   "metadata": {},
   "outputs": [
    {
     "output_type": "error",
     "ename": "NameError",
     "evalue": "name 'pred' is not defined",
     "traceback": [
      "\u001b[1;31m---------------------------------------------------------------------------\u001b[0m",
      "\u001b[1;31mNameError\u001b[0m                                 Traceback (most recent call last)",
      "\u001b[1;32m<ipython-input-14-be0bae01eec2>\u001b[0m in \u001b[0;36m<module>\u001b[1;34m\u001b[0m\n\u001b[0;32m     18\u001b[0m         \u001b[0mi\u001b[0m\u001b[1;33m+=\u001b[0m\u001b[1;36m1\u001b[0m\u001b[1;33m\u001b[0m\u001b[1;33m\u001b[0m\u001b[0m\n\u001b[0;32m     19\u001b[0m     \u001b[1;32mreturn\u001b[0m \u001b[0mzero_false\u001b[0m\u001b[1;33m,\u001b[0m \u001b[0mone_false\u001b[0m\u001b[1;33m,\u001b[0m \u001b[0mtwo_false\u001b[0m\u001b[1;33m,\u001b[0m \u001b[0mthree_false\u001b[0m\u001b[1;33m,\u001b[0m \u001b[0mfive_false\u001b[0m\u001b[1;33m\u001b[0m\u001b[1;33m\u001b[0m\u001b[0m\n\u001b[1;32m---> 20\u001b[1;33m \u001b[0mprint\u001b[0m\u001b[1;33m(\u001b[0m\u001b[1;34m'four_negative:'\u001b[0m\u001b[1;33m,\u001b[0m \u001b[0mfour_negative\u001b[0m\u001b[1;33m(\u001b[0m\u001b[0mtest_label\u001b[0m\u001b[1;33m,\u001b[0m \u001b[0mpred\u001b[0m\u001b[1;33m)\u001b[0m\u001b[1;33m)\u001b[0m\u001b[1;33m\u001b[0m\u001b[1;33m\u001b[0m\u001b[0m\n\u001b[0m",
      "\u001b[1;31mNameError\u001b[0m: name 'pred' is not defined"
     ]
    }
   ],
   "source": [
    "def four_negative(y_true, y_pred):\n",
    "    zero_false  = 0 # TP 초기화\n",
    "    one_false  = 0 # TP 초기화\n",
    "    two_false  = 0 # TP 초기화\n",
    "    three_false  = 0 # TP 초기화\n",
    "    five_false  = 0 # TP 초기화\n",
    "    for i in range (1877):\n",
    "        if y_pred[i] == 0 and y_true[i] == 4:\n",
    "            zero_false += 1\n",
    "        elif y_pred[i] == 1 and y_true[i] == 4:\n",
    "            one_false += 1\n",
    "        elif y_pred[i] == 2 and y_true[i] == 4:\n",
    "            two_false += 1\n",
    "        elif y_pred[i] == 3 and y_true[i] == 4:\n",
    "            three_false += 1\n",
    "        elif y_pred[i] == 5 and y_true[i] == 4:\n",
    "            five_false += 1\n",
    "        i+=1\n",
    "    return zero_false, one_false, two_false, three_false, five_false\n",
    "print('four_negative:', four_negative(test_label, pred))"
   ]
  },
  {
   "cell_type": "code",
   "execution_count": 15,
   "metadata": {},
   "outputs": [
    {
     "output_type": "error",
     "ename": "NameError",
     "evalue": "name 'pred' is not defined",
     "traceback": [
      "\u001b[1;31m---------------------------------------------------------------------------\u001b[0m",
      "\u001b[1;31mNameError\u001b[0m                                 Traceback (most recent call last)",
      "\u001b[1;32m<ipython-input-15-c404975b4111>\u001b[0m in \u001b[0;36m<module>\u001b[1;34m\u001b[0m\n\u001b[0;32m     18\u001b[0m         \u001b[0mi\u001b[0m\u001b[1;33m+=\u001b[0m\u001b[1;36m1\u001b[0m\u001b[1;33m\u001b[0m\u001b[1;33m\u001b[0m\u001b[0m\n\u001b[0;32m     19\u001b[0m     \u001b[1;32mreturn\u001b[0m \u001b[0mzero_false\u001b[0m\u001b[1;33m,\u001b[0m \u001b[0mone_false\u001b[0m\u001b[1;33m,\u001b[0m \u001b[0mtwo_false\u001b[0m\u001b[1;33m,\u001b[0m \u001b[0mthree_false\u001b[0m\u001b[1;33m,\u001b[0m \u001b[0mfour_false\u001b[0m\u001b[1;33m\u001b[0m\u001b[1;33m\u001b[0m\u001b[0m\n\u001b[1;32m---> 20\u001b[1;33m \u001b[0mprint\u001b[0m\u001b[1;33m(\u001b[0m\u001b[1;34m'five_negative:'\u001b[0m\u001b[1;33m,\u001b[0m \u001b[0mfive_negative\u001b[0m\u001b[1;33m(\u001b[0m\u001b[0mtest_label\u001b[0m\u001b[1;33m,\u001b[0m \u001b[0mpred\u001b[0m\u001b[1;33m)\u001b[0m\u001b[1;33m)\u001b[0m\u001b[1;33m\u001b[0m\u001b[1;33m\u001b[0m\u001b[0m\n\u001b[0m",
      "\u001b[1;31mNameError\u001b[0m: name 'pred' is not defined"
     ]
    }
   ],
   "source": [
    "def five_negative(y_true, y_pred):\n",
    "    zero_false  = 0 # TP 초기화\n",
    "    one_false  = 0 # TP 초기화\n",
    "    two_false  = 0 # TP 초기화\n",
    "    three_false  = 0 # TP 초기화\n",
    "    four_false  = 0 # TP 초기화\n",
    "    for i in range (1877):\n",
    "        if y_pred[i] == 0 and y_true[i] == 5:\n",
    "            zero_false += 1\n",
    "        elif y_pred[i] == 1 and y_true[i] == 5:\n",
    "            one_false += 1\n",
    "        elif y_pred[i] == 2 and y_true[i] == 5:\n",
    "            two_false += 1\n",
    "        elif y_pred[i] == 3 and y_true[i] == 5:\n",
    "            three_false += 1\n",
    "        elif y_pred[i] == 4 and y_true[i] == 5:\n",
    "            four_false += 1\n",
    "        i+=1\n",
    "    return zero_false, one_false, two_false, three_false, four_false\n",
    "print('five_negative:', five_negative(test_label, pred))"
   ]
  },
  {
   "cell_type": "code",
   "execution_count": null,
   "metadata": {},
   "outputs": [],
   "source": []
  }
 ],
 "metadata": {
  "language_info": {
   "codemirror_mode": {
    "name": "ipython",
    "version": 3
   },
   "file_extension": ".py",
   "mimetype": "text/x-python",
   "name": "python",
   "nbconvert_exporter": "python",
   "pygments_lexer": "ipython3",
   "version": "3.7.4-final"
  },
  "orig_nbformat": 2,
  "kernelspec": {
   "name": "python3",
   "display_name": "Python 3"
  }
 },
 "nbformat": 4,
 "nbformat_minor": 2
}